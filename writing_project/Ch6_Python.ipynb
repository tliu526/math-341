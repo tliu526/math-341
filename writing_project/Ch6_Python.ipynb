{
 "cells": [
  {
   "cell_type": "markdown",
   "metadata": {},
   "source": [
    "#Chapter 6 - Counting III: Advanced Combinatorics (Python Code)"
   ]
  },
  {
   "cell_type": "markdown",
   "metadata": {},
   "source": [
    "##6.1 Basic Counting\n",
    "\n",
    "###Example 6.1.1 (Enumerating Cases I)\n",
    "_Imagine we have a CD player in our car. This player can hold 6 CDs. When we put it on randomize, after it plays a song from a CD it randomly chooses another CD, with each CD equally likely to be chosen (including the CD currently being played). We play 10 songs with the randomizer on and all 6 CD slots filled. (1) How many possibilities are there for which CDs are chosen? (2) How many of these possibilities never have CD 2, 3 or 6 played, or, equivalently, what is the probability that we never hear a song from CD 2, 3 or 6? (3) Imagine now we have an improved randomizer, which doesn’t play two songs from the same CD in a row. Now what is the probability we never hear a song from CD 2, 3 or 6?_\n",
    "\n",
    "####Question 2 (no CDs 2, 3, 6)\n",
    "We can count directly to find out how many possibilities never involve CDs 2, 3,\n",
    "or 6. When the randomizer selects the first song, there are only three choices it can make that don’t involve CDs 2, 3, or 6: namely CDs 1, 4, or 5. Each time it chooses a CD, it must choose from this pool of only three CDs, and so after ten songs there will be only $3^{10} = 59,049$ outcomes that never choose CDs 2, 3, or 6. This gives us a probability of $\\frac{59,049}{60,466,176} = \\frac{1}\n",
    "{1,024}$, or a little under 0.1% that these CDs are never selected. __We can also show this by simulation:__"
   ]
  },
  {
   "cell_type": "code",
   "execution_count": 18,
   "metadata": {
    "collapsed": false
   },
   "outputs": [
    {
     "name": "stdout",
     "output_type": "stream",
     "text": [
      "Theoretical result: 0.0009765625\n",
      "Simulation result: 0.000977\n"
     ]
    }
   ],
   "source": [
    "import random\n",
    "\n",
    "def choose_CDs(num_trials, num_songs, num_CDs, CDs_to_avoid):\n",
    "    \"\"\"\n",
    "    @param num_trials: the number of trials to run\n",
    "    @param num_songs: the number of songs we want to play\n",
    "    @param num_CDs: the number of CDs in the player\n",
    "    @param CDs_to_avoid: a list of CD indices we want to avoid\n",
    "    @return: the probablity we avoid all CDs in CDs_to_avoid when picking \n",
    "             num_songs songs to play.\n",
    "    \"\"\"\n",
    "    # we give each CD an index, [1...num_CDS]\n",
    "    # Programming Note: cds is created using a list comprehension, a powerful\n",
    "    # technique for creating lists dynamically. Here we create a list containing\n",
    "    # numbers from 1 to CD (note that the upper bound of range is exclusive).\n",
    "    # List comprehensions can be extended to include conditions. For example,\n",
    "    # if we wanted an array of only odd numbers in a range we could write:\n",
    "    # arr = [x for x in range() if x%2 == 1].\n",
    "    cds = [x for x in range(1, num_CDs+1)]\n",
    "    \n",
    "    # tracks how many times we play num_songs songs while avoiding the given CDs\n",
    "    successful_plays = 0\n",
    "    \n",
    "    for i in range(num_trials):\n",
    "        num_played = 0 # number of songs played in this trial\n",
    "        while num_played < num_songs:\n",
    "            choice = random.randint(1, num_CDs)\n",
    "            \n",
    "            # Programming Note:\n",
    "            # the `in' keyword allows us to compactly check the presence of\n",
    "            # the choice value in CDs_to_avoid. Be careful when using this\n",
    "            # keyword when parsing other data structures, as the equality \n",
    "            # condition may not be what you expect!\n",
    "            if choice in CDs_to_avoid:\n",
    "                #we've hit a CD we wanted to avoid, an unsuccessful trial\n",
    "                break\n",
    "                \n",
    "            num_played += 1\n",
    "        \n",
    "        # if we've played num_songs songs w/o hitting a bad CD\n",
    "        if num_played == num_songs:\n",
    "            successful_plays += 1\n",
    "        \n",
    "    return float(successful_plays)/float(num_trials)\n",
    "\n",
    "print \"Theoretical result: \" + str(float(1)/float(1024))        \n",
    "print \"Simulation result: \" + str(choose_CDs(1000000, 10, 6, [2,3,6]))"
   ]
  },
  {
   "cell_type": "markdown",
   "metadata": {},
   "source": [
    "####Question 3 (Improved Randomizer)\n",
    "For our improved randomizer, we have a different number of possible outcomes.\n",
    "The first song will again be chosen fromone of the six CDs; but when the randomizer selects subsequent songs, as it never chooses from the CD that just played there are only five CDs to choose from. So there are 6 choices for the first song, and then 5 choices for each of the remaining 9 songs, giving us a total of $6 \\cdot 5^9 = 11,718,750$ possible outcomes.\n",
    "\n",
    "To find the total number of possibilities that never play songs from CDs 2, 3,\n",
    "or 6 now, we have three possible CD choices for our first song: CDs 1, 4, or 5.\n",
    "After the first song, however, whichever CD was just selected will not be chosen\n",
    "next, so there are only two remaining CDs to choose from that aren’t CDs 2, 3, or 6. This is true each time after the first song is chosen. Thus we have $3 \\cdot 2^9 = 1,536$ possible outcomes that never play a song from these CDs, and so the probability is $\\frac{1,536}{11,718,750} = \\frac{256}{1,953,125}$ that songs from those CDs never play, just over 0.01%. __Confirming via simulation:__"
   ]
  },
  {
   "cell_type": "code",
   "execution_count": 17,
   "metadata": {
    "collapsed": false
   },
   "outputs": [
    {
     "name": "stdout",
     "output_type": "stream",
     "text": [
      "Theoretical result: 0.000131072\n",
      "Simulation result: 0.000144\n"
     ]
    }
   ],
   "source": [
    "import random\n",
    "\n",
    "def choose_CDs_improved(num_trials, num_songs, num_CDs, CDs_to_avoid):\n",
    "    \"\"\"\n",
    "    @param num_trials: the number of trials to run\n",
    "    @param num_songs: the number of songs we want to play\n",
    "    @param num_CDs: the number of CDs in the player\n",
    "    @param CDs_to_avoid: a list of CD indices we want to avoid\n",
    "    @return: the probablity we avoid all CDs in CDs_to_avoid when picking \n",
    "             num_songs songs to play.\n",
    "    \"\"\"\n",
    "    # we give each CD an index, [1...num_CDS]\n",
    "    cds = [x for x in range(1, num_CDs+1)]\n",
    "    \n",
    "    # tracks how many times we play num_songs songs while avoiding the given CDs\n",
    "    successful_plays = 0\n",
    "    \n",
    "    for i in range(num_trials):\n",
    "        num_played = 0 # number of songs played in this trial\n",
    "        prev_CD = 0 # the previously played CD\n",
    "        while num_played < num_songs: \n",
    "            choice = random.randint(1, num_CDs)\n",
    "            # the improved randomizer doesn't pick the same CD twice in a row\n",
    "            while choice == prev_CD:\n",
    "                choice = random.randint(1, num_CDs)\n",
    "                \n",
    "            if choice in CDs_to_avoid:\n",
    "                #we've hit a CD we wanted to avoid, an unsuccessful trial\n",
    "                break\n",
    "                \n",
    "            prev_CD = choice\n",
    "            num_played += 1\n",
    "        \n",
    "        # if we've played num_songs songs w/o hitting a bad CD\n",
    "        if num_played == num_songs:\n",
    "            successful_plays += 1\n",
    "        \n",
    "    return float(successful_plays)/float(num_trials)\n",
    "\n",
    "print \"Theoretical result: \" + str(float(256)/float(1953125))        \n",
    "print \"Simulation result: \" + str(choose_CDs_improved(1000000, 10, 6, [2,3,6]))"
   ]
  },
  {
   "cell_type": "markdown",
   "metadata": {},
   "source": [
    "###Example 6.1.2 (Enumerating Cases II)\n",
    "_Imagine we live in a state where license plates for cars are constructed according to the following rules: all license plates start with three letters (and each letter is equally likely to be chosen) followed by three numbers (and all numbers are equally likely to be chosen). (1) How many different license plates are there? (2) Assume now that we’re not allowed to have any vowels (A, E, I, O or U) or any even numbers. How many license plates are there? (3) What’s the probability two people have exactly four of their six digits equal?_\n",
    "\n",
    "####Question 3\n",
    "To have exactly four of six digits (a digit is one of the symbols on the license plate, i.e., either one of the three numbers or letters) equal is to say that exactly two of six digits are different. There are $\\binom{6}{2} = 15$ ways exactly two digits can be different. Why? We have to pick two of the six digits to differ; this is the definition of the binomial coefficient. Because some digits are numbers and others are letters, and numbers have a smaller pool of to pick from than letters, we evaluate this on a case-by-case basis. Adding up each case will give us the total number of ways in which two license plates can have exactly four digits equal. We list the fifteen possible ways for two digits from six to be chosen: (1) two letters: first and second, first and third, second and third; (2) two numbers: fourth and fifth, fourth and sixth, fifth and six; (3) a letter and a number: first and fourth, first and fifth, first and sixth, second and fourth, second and fifth, second and sixth, third and fourth, third and fifth, third and sixth. We’ll see below that all pairs in each class give the same contribution. _Keep the following in mind as you read the analysis below: if we are trying to find how often two license plates agree in exactly four places, this is the same as fixing one license plate and asking how often a randomly chosen second plate matches it in exactly four places._ After our first approach we’ll see how this insight speeds up the calculation. __The naive simulation:__"
   ]
  },
  {
   "cell_type": "code",
   "execution_count": 10,
   "metadata": {
    "collapsed": false
   },
   "outputs": [
    {
     "name": "stdout",
     "output_type": "stream",
     "text": [
      "Theoretical result: 0.000235719162494\n",
      "Simulation result: 0.000226\n"
     ]
    }
   ],
   "source": [
    "import random\n",
    "\n",
    "NUM_DIGITS = 10\n",
    "ALPHA_DIGITS = 26\n",
    "\n",
    "ALPHA_LEN = 3\n",
    "NUM_LEN = 3\n",
    "\n",
    "def generate_plate():\n",
    "    \"\"\"\n",
    "    Generates a random license plate.\n",
    "    A license plate has 6 digits, first 3 are letters, second 3 are numbers.\n",
    "    \n",
    "    @return: a list representing a valid license plate\n",
    "    \"\"\"\n",
    "    license_plate = []\n",
    "    \n",
    "    # Programming note: random.randint is inclusive at both ends of the bounds.\n",
    "    for i in range(ALPHA_LEN):\n",
    "        license_plate.append(random.randint(1,ALPHA_DIGITS))\n",
    "        \n",
    "    for i in range(NUM_LEN):\n",
    "        license_plate.append(random.randint(1,NUM_DIGITS))\n",
    "        \n",
    "    return license_plate\n",
    "\n",
    "def check_license_naive(num_trials, num_same):\n",
    "    \"\"\"\n",
    "    Checks license plates by naively checking two random license plates\n",
    "    \n",
    "    @param num_trials: the number of trials to run\n",
    "    @param num_same: the number of digits that need to agree\n",
    "    @return: the percentage of plates that have exactly num_same digits agreeing\n",
    "    \"\"\"\n",
    "    success = 0 # number of successful trials\n",
    "    \n",
    "    for x in range(num_trials):\n",
    "        plate1 = generate_plate()\n",
    "        plate2 = generate_plate()\n",
    "        same_count = 0 # the number of digits that are the same \n",
    "        for i in range(len(plate1)):\n",
    "            if plate1[i] == plate2[i]:\n",
    "                same_count += 1\n",
    "                \n",
    "        if same_count == num_same:\n",
    "            success += 1\n",
    "            \n",
    "            \n",
    "    return float(success)/float(num_trials)\n",
    "print \"Theoretical result: \" + str(float(72817368000)/float(17576000**2))\n",
    "print \"Simulation result: \" + str(check_license_naive(1000000, 4))\n"
   ]
  },
  {
   "cell_type": "markdown",
   "metadata": {},
   "source": [
    "####Question 3 (Continued)\n",
    "\n",
    "While we are stuck with enumerating all the cases above, maybe there is a\n",
    "better way to do this calculation. We already had some savings by noticing symmetries. For example, the number of ways just the first and second digits of the two pairs differ is the same as the number of ways just the first and third or just the second and third differ. _Rather than looking at all pairs of plates, we can fix one license plate and look at the probability the next license plate agrees in exactly four locations._ For definiteness, we could even assume the plate was AAA000. Observations like this can help streamline coding or simulations. __The improved code follows:__"
   ]
  },
  {
   "cell_type": "code",
   "execution_count": 12,
   "metadata": {
    "collapsed": false
   },
   "outputs": [
    {
     "name": "stdout",
     "output_type": "stream",
     "text": [
      "Theoretical result: 0.000235719162494\n",
      "Simulation result: 0.000233\n"
     ]
    }
   ],
   "source": [
    "import random\n",
    "\n",
    "NUM_DIGITS = 10\n",
    "ALPHA_DIGITS = 26\n",
    "\n",
    "ALPHA_LEN = 3\n",
    "NUM_LEN = 3\n",
    "\n",
    "DEFAULT_PLATE = [1,1,1,1,1,1] #equivalent to AAA000 plate\n",
    "\n",
    "def generate_plate():\n",
    "    \"\"\"\n",
    "    Generates a random license plate.\n",
    "    A license plate has 6 digits, first 3 are letters, second 3 are numbers.\n",
    "    \n",
    "    @return: a list representing a valid license plate\n",
    "    \"\"\"\n",
    "    license_plate = []\n",
    "    \n",
    "    # Programming note: random.randint is inclusive at both ends of the bounds.\n",
    "    for i in range(ALPHA_LEN):\n",
    "        license_plate.append(random.randint(1,ALPHA_DIGITS))\n",
    "        \n",
    "    for i in range(NUM_LEN):\n",
    "        license_plate.append(random.randint(1,NUM_DIGITS))\n",
    "        \n",
    "    return license_plate\n",
    "\n",
    "def check_license_improved(num_trials, num_same):\n",
    "    \"\"\"\n",
    "    Checks license plates by checking one random plate against AAA000 without\n",
    "    loss of generality\n",
    "    \n",
    "    @param num_trials: the number of trials to run\n",
    "    @param num_same: the number of digits that need to agree\n",
    "    @return: the percentage of plates that have exactly num_same digits agreeing\n",
    "    \"\"\"\n",
    "    success = 0 # number of successful trials\n",
    "    \n",
    "    for x in range(num_trials):\n",
    "        plate2 = generate_plate()\n",
    "        same_count = 0 # the number of digits that are the same \n",
    "        for i in range(len(DEFAULT_PLATE)):\n",
    "            if DEFAULT_PLATE[i] == plate2[i]:\n",
    "                same_count += 1\n",
    "                \n",
    "        if same_count == num_same:\n",
    "            success += 1\n",
    "                \n",
    "    return float(success)/float(num_trials)\n",
    "\n",
    "print \"Theoretical result: \" + str(float(72817368000)/float(17576000**2))\n",
    "print \"Simulation result: \" + str(check_license_improved(1000000, 4))"
   ]
  },
  {
   "cell_type": "markdown",
   "metadata": {},
   "source": [
    "###Example 6.1.3 (Sampling with and without replacement)\n",
    "_Imagine we have four jars. In each jar there are 100 marbles, and each marble is either purple or gold. The first jar has exactly 10 purple marbles, the second exactly 30 purple marbles, the third exactly 60 purple marbles, and the last exactly 90 purple marbles. (1): Assume we draw 5 marbles from the first jar: what is the probability that we have at least four purple marbles? (2), (3) and (4): Repeat this for the other three jars. (5): If we were to choose a jar at random, what is the probability we have at least four purple marbles when we draw five?_\n",
    "\n",
    "As stated, the problem is too vague to solve. What does it mean to draw 5 marbles from a jar? Are we pulling out five marbles one at at time, or are we pulling out a marble, recording its color, replacing it, and then pulling a marble out again? Not surprisingly, the two methods lead to two different answers. The first is called __sampling without replacement__, while the second is called __sampling with replacement__. We first describe the solution when we sample without replacement, and then with. For many problems, sampling without replacement is more natural; a great example are lotteries, where numbers cannot be repeated. However, there are times when we do have replacement (such as sampling points for Monte Carlo integration), so it’s important to be able to do both.\n",
    "\n",
    "####Question 1-4 (without replacement)\n",
    "Let’s consider the first jar (Question 1), with 10 purple marbles\n",
    "and 90 gold ones. There are two ways we can draw at least four purple marbles:\n",
    "by drawing exactly four purple marbles and one gold one, or by drawing five purple marbles. We add up the probability of each case to find the probability of either case, and thus the probability of at least four purple marbles. \n",
    "\n",
    "- First consider the case of drawing 5 purple marbles. When drawing the first, there are ten purple marbles to pick out of a total one hundred, so the probability is 10/100. Once we’ve picked out the first purple marble, though, there are only nine purple ones out of a total ninety-nine left. The probability of having a purple marble on the second pick (given a purple marble on the first pick) is 9/99. The probabilities of the remaining three marbles being purple are 8/98, 7/97, and 6/96 respectively. Multiplying all these probabilities together, we find the probability of drawing five purple marbles is:\n",
    "$$\\frac{10}{100} \\cdot \\frac{9}{99} \\cdot \\frac{8}{98} \\cdot \\frac{7}{97} \\cdot \\frac{6}{96} = \\frac{30,240}{9,034,502,400} =\\frac{1}{298,760}$$\n",
    "\n",
    "- Next we calculate the probability of drawing four purple marbles and one gold one. Note that there are five possible ways this can happen: if the gold marble is picked first and the remaining four marbles are purple; if the gold marble is picked second and the other four are purple; and so on. We must add up all these probabilities. First suppose the gold marble was picked first. The probability of picking out a gold marble is 90/100. With ten purple marbles still in the bag but only 99 total marbles remaining, the probability of the second marble being purple is 10/99. With similar reasoning from above, we see that the probabilities of picking the remaining purple marbles are 9/98, 8/97, and 7/96. Thus we can calculate the probability of picking out one gold marble followed by four purple marbles:\n",
    "$$\\frac{90}{100} \\cdot \\frac{10}{99} \\cdot \\frac{9}{98} \\cdot \\frac{8}{97} \\cdot \\frac{7}{96} = \\frac{453,600}{9,034,502,400} =\\frac{3}{59,752}$$\n",
    "Notice that this is the same exact probability as drawing the gold marble first.\n",
    "This is no coincidence. Consider the denominators of both products: they are\n",
    "identical, because no matter which marble we select, we’re always reducing\n",
    "the number of marbles in the jar by one. In the numerator, because we’re always\n",
    "picking out one gold marble and four purple ones without replacement,\n",
    "we see the same numbers only in different orders. Because multiplication is\n",
    "commutative, we always arrive at the same result: a probability of 3 in 59,752.\n",
    "Since there are $\\binom{5}{1} = 5$ ways to draw one gold marble and four purple ones (the gold marble first, second, third, fourth, or fifth), we can multiply this probability by five to find the probability of selecting exactly four purple marbles: $\\text{P}(4 \\text{ purple})= 5 \\cdot \\frac{3}{59,752} = \\frac{15}{59,752}$. \n",
    "\n",
    "As we initially discussed, the probability of selecting at least four purple marbles is equal to the probability of selecting exactly four or exactly five purple marbles. Thus the probability of selecting at least four purple marbles is $\\frac{1}{298,760} + \\frac{15}{59,752} = \\frac{19}{74,690}$ or about a .025% probability.\n",
    "\n",
    "We can apply this same analysis to the other cases. __Showing this by simulation:__"
   ]
  },
  {
   "cell_type": "code",
   "execution_count": 2,
   "metadata": {
    "collapsed": false,
    "scrolled": true
   },
   "outputs": [
    {
     "name": "stdout",
     "output_type": "stream",
     "text": [
      "Question 1\n",
      "Theoretical result: 0.000254384790467\n",
      "Simulation result: 0.000239\n",
      "\n",
      "Question 2\n",
      "Theoretical result: 0.0273731423216\n",
      "Simulation result: 0.027417\n",
      "\n",
      "Question 3\n",
      "Theoretical result: 0.331620858278\n",
      "Simulation result: 0.331481\n",
      "\n",
      "Question 4\n",
      "Theoretical result: 0.92314327793\n",
      "Simulation result: 0.92298\n"
     ]
    }
   ],
   "source": [
    "import random\n",
    "\n",
    "TOT_MARBLES = 100\n",
    "\n",
    "def draw_purple_no_replace(num_trials, tot_purple, num_to_draw, num_purple):\n",
    "    \"\"\"\n",
    "    Simulates the probability of drawing at least num_to_draw purple marbles,\n",
    "    given tot_purple marbles in the jar without replacement. Generalized to \n",
    "    handle Questions 1, 2, 3, 4.\n",
    "    \n",
    "    @param num_trials: the number of trials to run\n",
    "    @param tot_purple: the total number of purple marbles in the jar. Note that\n",
    "                       this implies (TOT_MARBLES - tot_purple) gold marbles.\n",
    "    @param num_to_draw: the total number of marbles drawn out of the jar\n",
    "    @param num_purple: the minimum number of purple marbles we want in a draw\n",
    "    \"\"\"\n",
    "    success = 0 # counts number of successful trials\n",
    "    \n",
    "    # 1 is purple, 0 is gold\n",
    "    # Programming Note: we can create lists in python via math operators.\n",
    "    # Here we create arrays with the values 1 and 0 repeated tot_purple\n",
    "    # and (TOT_MARBLES - tot_purple) number of times.\n",
    "    purple = [1] * tot_purple\n",
    "    gold = [0] * (TOT_MARBLES - tot_purple)\n",
    "    jar = purple + gold\n",
    "    \n",
    "    for x in range(num_trials):\n",
    "        # returns sample list of length num_to_draw w/o replacement\n",
    "        sample = random.sample(jar, num_to_draw)\n",
    "         \n",
    "        if sum(sample) >= num_purple:\n",
    "            success += 1\n",
    "            \n",
    "    return float(success)/float(num_trials)\n",
    "\n",
    "print \"Question 1\"\n",
    "print \"Theoretical result: \"+ str(float(19)/float(74690))\n",
    "print \"Simulation result: \" + str(draw_purple_no_replace(1000000, 10, 5, 4))\n",
    "print\n",
    "print \"Question 2\"\n",
    "print \"Theoretical result: \"+ str(float(4089)/float(149380))\n",
    "print \"Simulation result: \" + str(draw_purple_no_replace(1000000, 30, 5, 4))\n",
    "print\n",
    "print \"Question 3\"\n",
    "print \"Theoretical result: \"+ str(float(260072)/float(784245))\n",
    "print \"Simulation result: \" + str(draw_purple_no_replace(1000000, 60, 5, 4))\n",
    "print\n",
    "print \"Question 4\"\n",
    "print \"Theoretical result: \"+ str(float(43877)/float(47530))\n",
    "print \"Simulation result: \" + str(draw_purple_no_replace(1000000, 90, 5, 4))"
   ]
  },
  {
   "cell_type": "markdown",
   "metadata": {},
   "source": [
    "####Question 5 (without replacement)\n",
    "To find the probability of drawing at least four\n",
    "marbles when one jar is picked at random, we simply multiply the probability of\n",
    "picking a given jar by the probability of picking at least four purple marbles from that jar. Since each jar is equally likely to be picked, each one has a 1/4 probability of being picked. We sum all these probabilities together to find the probability when a jar is picked at random:\n",
    "\n",
    "$$P = (\\frac{1}{4} \\cdot \\frac{779,919}{3,065,902,643}) + (\\frac{1}{4} \\cdot \\frac{4,089}{149,380}) + (\\frac{1}{4} \\cdot \\frac{260,072}{784,245}) + (\\frac{1}{4} \\cdot \\frac{43,877}{47,530})$$\n",
    "\n",
    "$$P \\approx 0.3205$$\n",
    "\n",
    "__Using our previous code, we can simulate this:__"
   ]
  },
  {
   "cell_type": "code",
   "execution_count": 11,
   "metadata": {
    "collapsed": false
   },
   "outputs": [
    {
     "name": "stdout",
     "output_type": "stream",
     "text": [
      "Theoretical result: 0.32059791583\n",
      "Simulation result: 0.320831\n"
     ]
    }
   ],
   "source": [
    "import random\n",
    "\n",
    "def draw_all_jars_no_replace(num_trials): \n",
    "    \"\"\"\n",
    "    Solves Question 5 without replacement, utilizing previous code for Questions\n",
    "    1-4.\n",
    "    @param num_trials: the number of trials to run\n",
    "    \"\"\"\n",
    "    num_success = 0\n",
    "    for x in range(num_trials):\n",
    "        num = random.random()\n",
    "        \n",
    "        # Note that if we run draw_purple_no_replace with one trial\n",
    "        # then the probability will either be 0 or 1.\n",
    "        if num < 0.25:\n",
    "            # jar 1\n",
    "            num_success += draw_purple_no_replace(1, 10, 5, 4)\n",
    "        elif num < 0.5:\n",
    "            # jar 2:\n",
    "            num_success += draw_purple_no_replace(1, 30, 5, 4)\n",
    "        elif num < 0.75:\n",
    "            # jar 3\n",
    "            num_success += draw_purple_no_replace(1, 60, 5, 4)\n",
    "        else:\n",
    "            # jar 4\n",
    "            num_success += draw_purple_no_replace(1, 90, 5, 4)\n",
    "            \n",
    "    return float(num_success) / float(num_trials)\n",
    "\n",
    "theoretical = 0.25*(float(779919)/float(3065902643)) \n",
    "theoretical += 0.25*(float(4089)/float(149380))\n",
    "theoretical += 0.25*(float(260072)/float(784245))\n",
    "theoretical += 0.25*(float(43877)/float(47530))\n",
    "print \"Theoretical result: \" + str(theoretical)\n",
    "print \"Simulation result: \" + str(draw_all_jars_no_replace(1000000))"
   ]
  },
  {
   "cell_type": "markdown",
   "metadata": {},
   "source": [
    "####Questions 1-4 (with replacement)\n",
    "\n",
    "We now solve the problem with replacement. This means that marbles are picked one at a time, and each time a marble is selected, the choice is noted and the marble is placed back in the jar before selecting the next marble. We’ll see that this somewhat simplifies our analysis.\n",
    "\n",
    "Solution to Question 1 with replacement. The first jar has 10 purple marbles and 90 gold ones. As when drawing marbles without replacement, there are two ways we can draw at least four purple marbles: by drawing exactly four purple marbles (and one gold one) or exactly five purple marbles.\n",
    "\n",
    "- We now calculate the probability of drawing five purple marbles. Since there are ten purplemarbles out of a possible hundred, the probability of drawing the first marble is 10/100. Indeed, since each marble is replaced, the probability of drawing each purple marble is 10/100. Thus the probability of drawing all five purple marbles equals:\n",
    "$$\\frac{10}{100} \\cdot \\frac{10}{100} \\cdot \\frac{10}{100} \\cdot \\frac{10}{100} \\cdot \\frac{10}{100} = (\\frac{1}{10})^5 = \\frac{1}{100,000}$$\n",
    "\n",
    "- We now need to find the probability of drawing four purple marbles and one gold one. Again, the same analysis we used on drawing marbles without replacement follows here: we need to take into account that the gold marble may be picked first, second, third, fourth, or fifth; but the probability of each of these events is equal, so we can calculate the probability of all of these events by multiplying the probability of one of them by five. Without loss of generality, suppose we select the gold marble first. There are 90 gold marbles, so the probability will be 90/100. Next we select a purple marble. Since the first marble was replaced, there are ten purple out of a total of 100 marbles, so the probability of the marble being purple is 10/100. Since this second marble is also replaced, the probability of drawing each of the three remaining purple purple marbles will also be 10/100. The probability of drawing a gold marble followed by four purple marbles, then, is:\n",
    "$$\\frac{90}{100} \\cdot \\frac{10}{100} \\cdot \\frac{10}{100} \\cdot \\frac{10}{100} \\cdot \\frac{10}{100} = \\frac{9}{10} \\cdot (\\frac{1}{10})^4 = \\frac{9}{100,000}$$\n",
    "Recalling that we must multiply this value by five (as there are $\\binom{5}{1}$ 5 ways to choose one position to be gold) to find the probability of drawing four purple marbles and one gold marble, we get:\n",
    "$$5 \\cdot \\frac{9}{100,000} = \\frac{9}{20,000}$$.\n",
    "\n",
    "Finally, the probability of drawing at least four purple marbles is the probability of drawing exactly four or exactly five purple marbles:\n",
    "\n",
    "$$P = \\frac{1}{100,000} + \\frac{9}{20,000} = \\frac{23}{50,000} = 0.00046$$\n",
    "\n",
    "We can apply this same analysis to the other cases. __Showing this by simulation:__"
   ]
  },
  {
   "cell_type": "code",
   "execution_count": 8,
   "metadata": {
    "collapsed": false
   },
   "outputs": [
    {
     "name": "stdout",
     "output_type": "stream",
     "text": [
      "Question 1\n",
      "Theoretical result: 0.00046\n",
      "Simulation result: 0.0004524\n",
      "Question 2\n",
      "Theoretical result: 0.03078\n",
      "Simulation result: 0.031084\n",
      "Question 3\n",
      "Theoretical result: 0.33696\n",
      "Simulation result: 0.337222\n",
      "Question 4\n",
      "Theoretical result: 0.91854\n",
      "Simulation result: 0.918474\n"
     ]
    }
   ],
   "source": [
    "def draw_purple_replace(num_trials, tot_purple, num_to_draw, num_purple):\n",
    "    \"\"\"\n",
    "    Simulates the probability of drawing at least num_to_draw purple marbles,\n",
    "    given tot_purple marbles in the jar with replacement. Generalized to \n",
    "    handle Questions 1, 2, 3.\n",
    "    \n",
    "    @param num_trials: the number of trials to run\n",
    "    @param tot_purple: the total number of purple marbles in the jar. Note that\n",
    "                       this implies (TOT_MARBLES - tot_purple) gold marbles.\n",
    "    @param num_to_draw: the total number of marbles drawn out of the jar\n",
    "    @param num_purple: the minimum number of purple marbles we want in a draw\n",
    "    \"\"\"\n",
    "    success = 0 # counts number of successful trials\n",
    "    \n",
    "    # 1 is purple, 0 is gold\n",
    "    purple = [1] * tot_purple\n",
    "    gold = [0] * (TOT_MARBLES - tot_purple)\n",
    "    jar = purple + gold\n",
    "    \n",
    "    for x in range(num_trials):\n",
    "        purple_count = 0\n",
    "        \n",
    "        for i in range(num_to_draw):\n",
    "            # if purple, purple_count will increment\n",
    "            purple_count += random.choice(jar) \n",
    "         \n",
    "        if purple_count >= num_purple:\n",
    "            success += 1\n",
    "            \n",
    "    return float(success)/float(num_trials)\n",
    "\n",
    "print \"Question 1\"\n",
    "print \"Theoretical result: \"+ str(float(23)/float(50000))\n",
    "print \"Simulation result: \" + str(draw_purple_replace(10000000, 10, 5, 4))\n",
    "print \"Question 2\"\n",
    "print \"Theoretical result: \"+ str(float(3078)/float(100000))\n",
    "print \"Simulation result: \" + str(draw_purple_replace(1000000, 30, 5, 4))\n",
    "print \"Question 3\"\n",
    "print \"Theoretical result: \"+ str(float(1053)/float(3125))\n",
    "print \"Simulation result: \" + str(draw_purple_replace(1000000, 60, 5, 4))\n",
    "print \"Question 4\"\n",
    "print \"Theoretical result: \"+ str(float(91854)/float(100000))\n",
    "print \"Simulation result: \" + str(draw_purple_replace(1000000, 90, 5, 4))"
   ]
  },
  {
   "cell_type": "markdown",
   "metadata": {},
   "source": [
    "####Question 5 (with replacement)\n",
    "\n",
    "We find the probability of drawing at least four marbles when one jar is picked at random the same way we do when the marbles were selected without replacement. Each of the four jars is chosen with probability 1/4, and we thus multiply the probabilities of each jar having at least four marbles by 1/4 and add.\n",
    "$$P = (\\frac{1}{4} \\cdot 0.00046) + (\\frac{1}{4} \\cdot 0.03078) + (\\frac{1}{4} \\cdot 0.33696) + (\\frac{1}{4} \\cdot 0.91854)$$\n",
    "\n",
    "$$P \\approx 0.321685$$\n",
    "\n",
    "__Using our previous code, we can simulate this:__"
   ]
  },
  {
   "cell_type": "code",
   "execution_count": 10,
   "metadata": {
    "collapsed": false
   },
   "outputs": [
    {
     "name": "stdout",
     "output_type": "stream",
     "text": [
      "Theoretical result: 0.321685\n",
      "Simulation result: 0.321888\n"
     ]
    }
   ],
   "source": [
    "def draw_all_jars_replace(num_trials): \n",
    "    \n",
    "    num_success = 0\n",
    "    for x in range(num_trials):\n",
    "        num = random.random()\n",
    "        \n",
    "        # note that if we run draw_purple_no_replace with one trial\n",
    "        # then the probability will either be 0 or 1\n",
    "        if num < 0.25:\n",
    "            # jar 1\n",
    "            num_success += draw_purple_replace(1, 10, 5, 4)\n",
    "        elif num < 0.5:\n",
    "            # jar 2:\n",
    "            num_success += draw_purple_replace(1, 30, 5, 4)\n",
    "        elif num < 0.75:\n",
    "            # jar 3\n",
    "            num_success += draw_purple_replace(1, 60, 5, 4)\n",
    "        else:\n",
    "            # jar 4\n",
    "            num_success += draw_purple_replace(1, 90, 5, 4)\n",
    "            \n",
    "    return float(num_success) / float(num_trials)\n",
    "\n",
    "theoretical = 0.25*(0.00046) \n",
    "theoretical += 0.25*(0.03078)\n",
    "theoretical += 0.25*(0.33696)\n",
    "theoretical += 0.25*(0.91854)\n",
    "print \"Theoretical result: \" + str(theoretical)\n",
    "print \"Simulation result: \" + str(draw_all_jars_replace(1000000))"
   ]
  },
  {
   "cell_type": "markdown",
   "metadata": {},
   "source": [
    "##6.5 Additional Problems"
   ]
  },
  {
   "cell_type": "markdown",
   "metadata": {},
   "source": [
    "###Problem 6.5.27\n",
    "Consider the cookie problem, except now we have only two people and instead of having cookies, we have indivisible piles of cookies. We want to partition them as fairly as possible between the two people. Randomly generate a set of piles of cookies. (You can choose the maximum pile size and number of piles, but don’t make it so small that it is trivial or so large that it will take a long time to analyze.) Write code that randomly partitions your cookie set many times. What is the fairest partition you find?"
   ]
  },
  {
   "cell_type": "code",
   "execution_count": 19,
   "metadata": {
    "collapsed": false
   },
   "outputs": [
    {
     "name": "stdout",
     "output_type": "stream",
     "text": [
      "Difference: 5\n"
     ]
    }
   ],
   "source": [
    "import random\n",
    "\n",
    "MAX_PILE_SIZE = 100\n",
    "NUM_PILES = 1000\n",
    "\n",
    "def generate_piles(pile_size, num_piles):\n",
    "    \"\"\"\n",
    "    Generates  random piles of cookies, represented by a list of integers.\n",
    "    @param pile_size: the maximum pile size [0,pile_size]\n",
    "    @param num_piles: the number of piles to generate\n",
    "    @return: a list of integers of the pile sizes\n",
    "    \"\"\"\n",
    "    piles = []\n",
    "    for x in range(num_piles):\n",
    "        piles.append(random.randint(1, pile_size))\n",
    "        \n",
    "    return piles\n",
    "\n",
    "def random_partition(num_trials, piles):\n",
    "    \"\"\"\n",
    "    Randomly partitions piles of cookies num_trials times, returning a tuple\n",
    "    of two lists of the best partition found\n",
    "    @param num_trials: the number of random partitions we consider\n",
    "    @param piles: the piles of cookies (integers) we are partitioning\n",
    "    \"\"\"\n",
    "    best_diff_so_far = float(\"inf\")\n",
    "    best_partA_so_far = [] # store our best partitions thus far\n",
    "    best_partB_so_far = []\n",
    "\n",
    "    for x in range(num_trials):\n",
    "        test_A = []\n",
    "        test_B = []\n",
    "        for pile in piles:\n",
    "            if random.random() < 0.5:\n",
    "                test_A.append(pile)\n",
    "            else:\n",
    "                test_B.append(pile)\n",
    "                \n",
    "        diff = abs(sum(test_A) - sum(test_B))\n",
    "        if diff < best_diff_so_far:\n",
    "            best_diff_so_far = diff\n",
    "            best_partA_so_far = test_A\n",
    "            best_partB_so_far = test_B\n",
    "\n",
    "            \n",
    "    return (best_partA_so_far, best_partB_so_far)\n",
    "piles = generate_piles(MAX_PILE_SIZE, NUM_PILES)\n",
    "(A, B) = random_partition(500, piles)\n",
    "#print \"partition A: \" + str(A)\n",
    "#print \"partition B: \" + str(B)\n",
    "print \"Difference: \" + str(abs(sum(A)- sum(B)))"
   ]
  },
  {
   "cell_type": "markdown",
   "metadata": {},
   "source": [
    "###Problem 6.5.28\n",
    "Instead of randomly partitioning the piles many times, write code that starts with a random partition, then searches all possible switches of a single\n",
    "pile until it finds the switch that comes closest to equalizing the partitions. Have the computer repeat this process until no more switches can be made that increase the equality of the partitions. Compare this partition to the one in the previous problem. This is known as a “greedy algorithm\" and can be used to find approximate solutions for many types of optimization problems."
   ]
  },
  {
   "cell_type": "code",
   "execution_count": 25,
   "metadata": {
    "collapsed": false
   },
   "outputs": [
    {
     "name": "stdout",
     "output_type": "stream",
     "text": [
      "Random Partition Difference: 143\n",
      "Greedy Partition Difference: 1\n"
     ]
    }
   ],
   "source": [
    "import random\n",
    "\n",
    "def greedy_partition(piles):\n",
    "    \"\"\"\n",
    "    Partitions the piles by switching single piles greedily until no more \n",
    "    switches can be made.\n",
    "    @param piles: the piles of cookies to partition\n",
    "    @return: a tuple containing the two partitions\n",
    "    \"\"\"\n",
    "    #first generate a random partition\n",
    "    (A,B) = random_partition(1, piles)\n",
    "    prev_diff = abs(sum(A)- sum(B))\n",
    "    \n",
    "    while True:\n",
    "        sumA = sum(A)\n",
    "        sumB = sum(B)\n",
    "\n",
    "        test_i = 0\n",
    "        test_j = 0\n",
    "        cur_diff = float(\"inf\")\n",
    "        \n",
    "        for i in range(len(A)):\n",
    "            for j in range(len(B)):\n",
    "                # simulate swapping by adjusting the sums of A and B accordingly\n",
    "                test_diff = abs((sumA-A[i]+B[j]) - (sumB-B[j]+A[i]))\n",
    "                if test_diff < cur_diff:\n",
    "                    test_i = i\n",
    "                    test_j = j\n",
    "                    cur_diff = test_diff\n",
    "                    \n",
    "        # if the best for this round makes the partition better, swap\n",
    "        if prev_diff > cur_diff:\n",
    "            temp = A[test_i]\n",
    "            A[test_i] = B[test_j]\n",
    "            B[test_j] = temp\n",
    "            \n",
    "            prev_diff = cur_diff\n",
    "        # otherwise, we're at the best we possibly can be\n",
    "        else:\n",
    "            break\n",
    "            \n",
    "    return (A,B)\n",
    "\n",
    "piles = generate_piles(MAX_PILE_SIZE, NUM_PILES)\n",
    "(randA,randB) = random_partition(50, piles)\n",
    "print \"Random Partition Difference: \" + str(abs(sum(randA)- sum(randB)))\n",
    "\n",
    "(greedA,greedB) = greedy_partition(piles)\n",
    "print \"Greedy Partition Difference: \" + str(abs(sum(greedA)- sum(greedB)))"
   ]
  }
 ],
 "metadata": {
  "kernelspec": {
   "display_name": "Python 2",
   "language": "python",
   "name": "python2"
  },
  "language_info": {
   "codemirror_mode": {
    "name": "ipython",
    "version": 2
   },
   "file_extension": ".py",
   "mimetype": "text/x-python",
   "name": "python",
   "nbconvert_exporter": "python",
   "pygments_lexer": "ipython2",
   "version": "2.7.10"
  }
 },
 "nbformat": 4,
 "nbformat_minor": 0
}
