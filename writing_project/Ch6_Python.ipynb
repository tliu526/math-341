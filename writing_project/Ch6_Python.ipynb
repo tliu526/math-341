{
 "cells": [
  {
   "cell_type": "markdown",
   "metadata": {},
   "source": [
    "#Chapter 6 - Counting III: Advanced Combinatorics (Python Code)"
   ]
  },
  {
   "cell_type": "markdown",
   "metadata": {},
   "source": [
    "##6.1 Basic Counting\n",
    "\n",
    "###Example 6.1.1 (Enumerating Cases I)\n",
    "_Imagine we have a CD player in our car. This player can hold 6\n",
    "CDs. When we put it on randomize, after it plays a song from a CD it randomly\n",
    "chooses another CD, with each CD equally likely to be chosen (including the CD\n",
    "currently being played). We play 10 songs with the randomizer on and all 6 CD\n",
    "slots filled. (1) How many possibilities are there for which CDs are chosen? (2) How many of these possibilities never have CD 2, 3 or 6 played, or, equivalently, what is the probability that we never hear a song from CD 2, 3 or 6? (3) Imagine now we have an improved randomizer, which doesn’t play two songs from the same CD in a row. Now what is the probability we never hear a song from CD 2, 3 or 6?_\n",
    "\n",
    "####Question 2 (no CDs 2, 3, 6)\n",
    "We can count directly to find out how many possibilities never involve CDs 2, 3,\n",
    "or 6. When the randomizer selects the first song, there are only three choices it can make that don’t involve CDs 2, 3, or 6: namely CDs 1, 4, or 5. Each time it chooses a CD, it must choose from this pool of only three CDs, and so after ten songs there will be only $3^{10} = 59,049$ outcomes that never choose CDs 2, 3, or 6. This gives us a probability of $\\frac{59,049}{60,466,176} = \\frac{1}\n",
    "{1,024}$, or a little under 0.1% that these CDs are never selected. __We can also show this by simulation:__"
   ]
  },
  {
   "cell_type": "code",
   "execution_count": 18,
   "metadata": {
    "collapsed": false
   },
   "outputs": [
    {
     "name": "stdout",
     "output_type": "stream",
     "text": [
      "Theoretical result: 0.0009765625\n",
      "Simulation result: 0.000977\n"
     ]
    }
   ],
   "source": [
    "import random\n",
    "\n",
    "def choose_CDs(num_trials, num_songs, num_CDs, CDs_to_avoid):\n",
    "    \"\"\"\n",
    "    @param num_trials: the number of trials to run\n",
    "    @param num_songs: the number of songs we want to play\n",
    "    @param num_CDs: the number of CDs in the player\n",
    "    @param CDs_to_avoid: a list of CD indices we want to avoid\n",
    "    @return: the probablity we avoid all CDs in CDs_to_avoid when picking \n",
    "             num_songs songs to play.\n",
    "    \"\"\"\n",
    "    # we give each CD an index, [1...num_CDS]\n",
    "    cds = [x for x in range(1, num_CDs+1)]\n",
    "    \n",
    "    # tracks how many times we play num_songs songs while avoiding the given CDs\n",
    "    successful_plays = 0\n",
    "    \n",
    "    for i in range(num_trials):\n",
    "        num_played = 0 # number of songs played in this trial\n",
    "        while num_played < num_songs:\n",
    "            choice = random.randint(1, num_CDs)\n",
    "            if choice in CDs_to_avoid:\n",
    "                #we've hit a CD we wanted to avoid, an unsuccessful trial\n",
    "                break\n",
    "                \n",
    "            num_played += 1\n",
    "        \n",
    "        # if we've played num_songs songs w/o hitting a bad CD\n",
    "        if num_played == num_songs:\n",
    "            successful_plays += 1\n",
    "        \n",
    "    return float(successful_plays)/float(num_trials)\n",
    "\n",
    "print \"Theoretical result: \" + str(float(1)/float(1024))        \n",
    "print \"Simulation result: \" + str(choose_CDs(1000000, 10, 6, [2,3,6]))"
   ]
  },
  {
   "cell_type": "markdown",
   "metadata": {},
   "source": [
    "####Question 3 (Improved Randomizer)\n",
    "For our improved randomizer, we have a different number of possible outcomes.\n",
    "The first song will again be chosen fromone of the six CDs; but when the randomizer selects subsequent songs, as it never chooses from the CD that just played there are only five CDs to choose from. So there are 6 choices for the first song, and then 5 choices for each of the remaining 9 songs, giving us a total of $6 \\cdot 5^9 = 11,718,750$ possible outcomes.\n",
    "\n",
    "To find the total number of possibilities that never play songs from CDs 2, 3,\n",
    "or 6 now, we have three possible CD choices for our first song: CDs 1, 4, or 5.\n",
    "After the first song, however, whichever CD was just selected will not be chosen\n",
    "next, so there are only two remaining CDs to choose from that aren’t CDs 2, 3, or 6. This is true each time after the first song is chosen. Thus we have $3 \\cdot 2^9 = 1,536$ possible outcomes that never play a song from these CDs, and so the probability is $\\frac{1,536}{11,718,750} = \\frac{256}{1,953,125}$ that songs from those CDs never play, just over 0.01%. __Confirming via simulation:__"
   ]
  },
  {
   "cell_type": "code",
   "execution_count": 17,
   "metadata": {
    "collapsed": false
   },
   "outputs": [
    {
     "name": "stdout",
     "output_type": "stream",
     "text": [
      "Theoretical result: 0.000131072\n",
      "Simulation result: 0.000144\n"
     ]
    }
   ],
   "source": [
    "import random\n",
    "\n",
    "def choose_CDs_improved(num_trials, num_songs, num_CDs, CDs_to_avoid):\n",
    "    \"\"\"\n",
    "    @param num_trials: the number of trials to run\n",
    "    @param num_songs: the number of songs we want to play\n",
    "    @param num_CDs: the number of CDs in the player\n",
    "    @param CDs_to_avoid: a list of CD indices we want to avoid\n",
    "    @return: the probablity we avoid all CDs in CDs_to_avoid when picking \n",
    "             num_songs songs to play.\n",
    "    \"\"\"\n",
    "    # we give each CD an index, [1...num_CDS]\n",
    "    cds = [x for x in range(1, num_CDs+1)]\n",
    "    \n",
    "    # tracks how many times we play num_songs songs while avoiding the given CDs\n",
    "    successful_plays = 0\n",
    "    \n",
    "    for i in range(num_trials):\n",
    "        num_played = 0 # number of songs played in this trial\n",
    "        prev_CD = 0 # the previously played CD\n",
    "        while num_played < num_songs: \n",
    "            choice = random.randint(1, num_CDs)\n",
    "            # the improved randomizer doesn't pick the same CD twice in a row\n",
    "            while choice == prev_CD:\n",
    "                choice = random.randint(1, num_CDs)\n",
    "                \n",
    "            if choice in CDs_to_avoid:\n",
    "                #we've hit a CD we wanted to avoid, an unsuccessful trial\n",
    "                break\n",
    "                \n",
    "            prev_CD = choice\n",
    "            num_played += 1\n",
    "        \n",
    "        # if we've played num_songs songs w/o hitting a bad CD\n",
    "        if num_played == num_songs:\n",
    "            successful_plays += 1\n",
    "        \n",
    "    return float(successful_plays)/float(num_trials)\n",
    "\n",
    "print \"Theoretical result: \" + str(float(256)/float(1953125))        \n",
    "print \"Simulation result: \" + str(choose_CDs_improved(1000000, 10, 6, [2,3,6]))"
   ]
  },
  {
   "cell_type": "markdown",
   "metadata": {},
   "source": [
    "###Example 6.1.2 (Enumerating Cases II)\n",
    "_Imagine we live in a state where license plates for cars are constructed\n",
    "according to the following rules: all license plates start with three letters\n",
    "(and each letter is equally likely to be chosen) followed by three numbers (and all numbers are equally likely to be chosen). (1) How many different license plates are there? (2) Assume now that we’re not allowed to have any vowels (A, E, I, O or U) or any even numbers. How many license plates are there? (3) What’s the probability two people have exactly four of their six digits equal?_\n",
    "\n",
    "####Question 3\n",
    "To have exactly four of six digits (a digit is one of the symbols on\n",
    "the license plate, i.e., either one of the three numbers or letters) equal is to say that\n",
    "exactly two of six digits are different. There are $\\binom{6}{2} = 15$ ways exactly two digits can be different. Why? We have to pick two of the six digits to differ; this is the definition of the binomial coefficient. Because some digits are numbers and others are letters, and numbers have a smaller pool of to pick from than letters, we evaluate this on a case-by-case basis. Adding up each case will give us the total number of ways in which two license plates can have exactly four digits equal. We list the fifteen possible ways for two digits from six to be chosen: (1) two letters: first and second, first and third, second and third; (2) two numbers: fourth and fifth, fourth and sixth, fifth and six; (3) a letter and a number: first and fourth, first and fifth, first and sixth, second and fourth, second and fifth, second and sixth, third and fourth, third and fifth, third and sixth. We’ll see below that all pairs in each class\n",
    "give the same contribution. _Keep the following in mind as you read the analysis\n",
    "below: if we are trying to find how often two license plates agree in exactly four places, this is the same as fixing one license plate and asking how often a randomly chosen second plate matches it in exactly four places._ After our first approach we’ll see how this insight speeds up the calculation. __The (naive) simulation:__"
   ]
  },
  {
   "cell_type": "code",
   "execution_count": 10,
   "metadata": {
    "collapsed": false
   },
   "outputs": [
    {
     "name": "stdout",
     "output_type": "stream",
     "text": [
      "Theoretical result: 0.000235719162494\n",
      "Simulation result: 0.000226\n"
     ]
    }
   ],
   "source": [
    "import random\n",
    "\n",
    "NUM_DIGITS = 10\n",
    "ALPHA_DIGITS = 26\n",
    "\n",
    "ALPHA_LEN = 3\n",
    "NUM_LEN = 3\n",
    "\n",
    "def generate_plate():\n",
    "    \"\"\"\n",
    "    Generates a random license plate.\n",
    "    A license plate has 6 digits, first 3 are letters, second 3 are numbers.\n",
    "    \n",
    "    @return: a list representing a valid license plate\n",
    "    \"\"\"\n",
    "    license_plate = []\n",
    "    \n",
    "    for i in range(ALPHA_LEN):\n",
    "        license_plate.append(random.randint(1,ALPHA_DIGITS))\n",
    "        \n",
    "    for i in range(NUM_LEN):\n",
    "        license_plate.append(random.randint(1,NUM_DIGITS))\n",
    "        \n",
    "    return license_plate\n",
    "\n",
    "def check_license_naive(num_trials, num_same):\n",
    "    \"\"\"\n",
    "    Checks license plates by naively checking two random license plates\n",
    "    \n",
    "    @param num_trials: the number of trials to run\n",
    "    @param num_same: the number of digits that need to agree\n",
    "    @return: the percentage of plates that have exactly num_same digits agreeing\n",
    "    \"\"\"\n",
    "    success = 0 # number of successful trials\n",
    "    \n",
    "    for x in range(num_trials):\n",
    "        plate1 = generate_plate()\n",
    "        plate2 = generate_plate()\n",
    "        same_count = 0 # the number of digits that are the same \n",
    "        for i in range(len(plate1)):\n",
    "            if plate1[i] == plate2[i]:\n",
    "                same_count += 1\n",
    "                \n",
    "        if same_count == num_same:\n",
    "            success += 1\n",
    "            \n",
    "            \n",
    "    return float(success)/float(num_trials)\n",
    "print \"Theoretical result: \" + str(float(72817368000)/float(17576000**2))\n",
    "print \"Simulation result: \" + str(check_license_naive(1000000, 4))\n"
   ]
  },
  {
   "cell_type": "markdown",
   "metadata": {},
   "source": [
    "####Question 3 (Continued)\n",
    "\n",
    "While we are stuck with enumerating all the cases above, maybe there is a\n",
    "better way to do this calculation. We already had some savings by noticing symmetries. For example, the number of ways just the first and second digits of the two pairs differ is the same as the number of ways just the first and third or just the second and third differ. _Rather than looking at all pairs of plates, we can fix one license plate and look at the probability the next license plate agrees in exactly four locations._ For definiteness, we could even assume the plate was AAA000. Observations like this can help streamline coding or simulations. __The improved code follows:__"
   ]
  },
  {
   "cell_type": "code",
   "execution_count": 12,
   "metadata": {
    "collapsed": false
   },
   "outputs": [
    {
     "name": "stdout",
     "output_type": "stream",
     "text": [
      "Theoretical result: 0.000235719162494\n",
      "Simulation result: 0.000233\n"
     ]
    }
   ],
   "source": [
    "import random\n",
    "\n",
    "NUM_DIGITS = 10\n",
    "ALPHA_DIGITS = 26\n",
    "\n",
    "ALPHA_LEN = 3\n",
    "NUM_LEN = 3\n",
    "\n",
    "DEFAULT_PLATE = [1,1,1,1,1,1] #equivalent to AAA000 plate\n",
    "\n",
    "def generate_plate():\n",
    "    \"\"\"\n",
    "    Generates a random license plate.\n",
    "    A license plate has 6 digits, first 3 are letters, second 3 are numbers.\n",
    "    \n",
    "    @return: a list representing a valid license plate\n",
    "    \"\"\"\n",
    "    license_plate = []\n",
    "    \n",
    "    for i in range(ALPHA_LEN):\n",
    "        license_plate.append(random.randint(1,ALPHA_DIGITS))\n",
    "        \n",
    "    for i in range(NUM_LEN):\n",
    "        license_plate.append(random.randint(1,NUM_DIGITS))\n",
    "        \n",
    "    return license_plate\n",
    "\n",
    "def check_license_improved(num_trials, num_same):\n",
    "    \"\"\"\n",
    "    Checks license plates by checking one random plate against AAA000 without\n",
    "    loss of generality\n",
    "    \n",
    "    @param num_trials: the number of trials to run\n",
    "    @param num_same: the number of digits that need to agree\n",
    "    @return: the percentage of plates that have exactly num_same digits agreeing\n",
    "    \"\"\"\n",
    "    success = 0 # number of successful trials\n",
    "    \n",
    "    for x in range(num_trials):\n",
    "        plate2 = generate_plate()\n",
    "        same_count = 0 # the number of digits that are the same \n",
    "        for i in range(len(DEFAULT_PLATE)):\n",
    "            if DEFAULT_PLATE[i] == plate2[i]:\n",
    "                same_count += 1\n",
    "                \n",
    "        if same_count == num_same:\n",
    "            success += 1\n",
    "                \n",
    "    return float(success)/float(num_trials)\n",
    "\n",
    "print \"Theoretical result: \" + str(float(72817368000)/float(17576000**2))\n",
    "print \"Simulation result: \" + str(check_license_improved(1000000, 4))"
   ]
  },
  {
   "cell_type": "markdown",
   "metadata": {},
   "source": [
    "###Example 6.1.3 (Sampling with and without replacement)\n",
    "_Imagine we have four jars. In each jar there are 100 marbles, and\n",
    "each marble is either purple or gold. The first jar has exactly 10 purple marbles, the second exactly 30 purple marbles, the third exactly 60 purple marbles, and the last exactly 90 purple marbles. (1): Assume we draw 5 marbles from the first jar: what is the probability that we have at least four purple marbles? (2), (3) and (4): Repeat this for the other three jars. (5): If we were to choose a jar at random, what is the probability we have at least four purple marbles when we draw five?_\n",
    "\n",
    "As stated, the problem is too vague to solve. What does it mean to draw 5 marbles from a jar? Are we pulling out five marbles one at at time, or are we pulling out a marble, recording its color, replacing it, and then pulling a marble out again? Not surprisingly, the two methods lead to two different answers. The first is called __sampling without replacement__, while the second is called __sampling with replacement__. We first describe the solution when we sample without replacement, and then with. For many problems, sampling without replacement is more natural; a great example are lotteries, where numbers cannot be repeated. However, there are times when we do have replacement (such as sampling points for Monte Carlo integration), so it’s important to be able to do both.\n",
    "\n",
    "####Question 1-4 (without replacement)\n",
    "Let’s consider the first jar (Question 1), with 10 purple marbles\n",
    "and 90 gold ones. There are two ways we can draw at least four purple marbles:\n",
    "by drawing exactly four purple marbles and one gold one, or by drawing five purple marbles. We add up the probability of each case to find the probability of either case, and thus the probability of at least four purple marbles. \n",
    "\n",
    "- First consider the case of drawing 5 purple marbles. When drawing the first, there are ten purple marbles to pick out of a total one hundred, so the probability is 10/100. Once we’ve picked out the first purple marble, though, there are only nine purple ones out of a total ninety-nine left. The probability of having a purple marble on the second pick (given a purple marble on the first pick) is 9/99. The probabilities of the remaining three marbles being purple are 8/98, 7/97, and 6/96 respectively. Multiplying all these probabilities together, we find the probability of drawing five purple marbles is:\n",
    "$$\\frac{10}{100} \\cdot \\frac{9}{99} \\cdot \\frac{8}{98} \\cdot \\frac{7}{97} \\cdot \\frac{6}{96} = \\frac{30,240}{9,034,502,400} =\\frac{1}{298,760}$$\n",
    "\n",
    "- Next we calculate the probability of drawing four purple marbles and one gold one. Note that there are five possible ways this can happen: if the gold marble is picked first and the remaining four marbles are purple; if the gold marble is picked second and the other four are purple; and so on. We must add up all these probabilities. First suppose the gold marble was picked first. The probability of picking out a gold marble is 90/100. With ten purple marbles still in the bag but only 99 total marbles remaining, the probability of the second marble being purple is 10/99. With similar reasoning from above, we see that the probabilities of picking the remaining purple marbles are 9/98, 8/97, and 7/96. Thus we can calculate the probability of picking out one gold marble followed by four purple marbles:\n",
    "$$\\frac{90}{100} \\cdot \\frac{10}{99} \\cdot \\frac{9}{98} \\cdot \\frac{8}{97} \\cdot \\frac{7}{96} = \\frac{453,600}{9,034,502,400} =\\frac{3}{59,752}$$\n",
    "Notice that this is the same exact probability as drawing the gold marble first.\n",
    "This is no coincidence. Consider the denominators of both products: they are\n",
    "identical, because no matter which marble we select, we’re always reducing\n",
    "the number of marbles in the jar by one. In the numerator, because we’re always\n",
    "picking out one gold marble and four purple ones without replacement,\n",
    "we see the same numbers only in different orders. Because multiplication is\n",
    "commutative, we always arrive at the same result: a probability of 3 in 59,752.\n",
    "Since there are $\\binom{5}{1} = 5$ ways to draw one gold marble and four purple ones (the gold marble first, second, third, fourth, or fifth), we can multiply this probability by five to find the probability of selecting exactly four purple marbles: $\\text{P}(4 \\text{ purple})= 5 \\cdot \\frac{3}{59,752} = \\frac{15}{59,752}$. \n",
    "\n",
    "As we initially discussed, the probability of selecting at least four purple marbles is equal to the probability of selecting exactly four or exactly five purple marbles. Thus the probability of selecting at least four purple marbles is $\\frac{1}{298,760} + \\frac{15}{59,752} = \\frac{19}{74,690}$ or about a .025% probability.\n",
    "\n",
    "We can apply this same analysis to the other cases. __Showing this by simulation:__"
   ]
  },
  {
   "cell_type": "code",
   "execution_count": 36,
   "metadata": {
    "collapsed": false,
    "scrolled": true
   },
   "outputs": [
    {
     "name": "stdout",
     "output_type": "stream",
     "text": [
      "Question 1\n",
      "Theoretical result: 0.000254384790467\n",
      "Simulation result: 0.00025\n",
      "\n",
      "Question 2\n",
      "Theoretical result: 0.0273731423216\n",
      "Simulation result: 0.027557\n",
      "\n",
      "Question 3\n",
      "Theoretical result: 0.331620858278\n",
      "Simulation result: 0.331452\n",
      "\n",
      "Question 4\n",
      "Theoretical result: 0.92314327793\n",
      "Simulation result: 0.922801\n"
     ]
    }
   ],
   "source": [
    "import random\n",
    "\n",
    "TOT_MARBLES = 100\n",
    "\n",
    "def draw_purple_no_replace(num_trials, tot_purple, num_to_draw, num_purple):\n",
    "    \"\"\"\n",
    "    Simulates the probability of drawing at least num_to_draw purple marbles,\n",
    "    given tot_purple marbles in the jar without replacement. Generalized to \n",
    "    handle Questions 1, 2, 3, 4.\n",
    "    \n",
    "    @param num_trials: the number of trials to run\n",
    "    @param tot_purple: the total number of purple marbles in the jar. Note that\n",
    "                       this implies (TOT_MARBLES - tot_purple) gold marbles.\n",
    "    @param num_to_draw: the total number of marbles drawn out of the jar\n",
    "    @param num_purple: the minimum number of purple marbles we want in a draw\n",
    "    \"\"\"\n",
    "    success = 0 # counts number of successful trials\n",
    "    \n",
    "    # 1 is purple, 0 is gold\n",
    "    purple = [1] * tot_purple\n",
    "    gold = [0] * (TOT_MARBLES - tot_purple)\n",
    "    jar = purple + gold\n",
    "    \n",
    "    for x in range(num_trials):\n",
    "        # returns sample list of length num_to_draw w/o replacement\n",
    "        sample = random.sample(jar, num_to_draw)\n",
    "         \n",
    "        if sum(sample) >= num_purple:\n",
    "            success += 1\n",
    "            \n",
    "    return float(success)/float(num_trials)\n",
    "\n",
    "print \"Question 1\"\n",
    "print \"Theoretical result: \"+ str(float(19)/float(74690))\n",
    "print \"Simulation result: \" + str(draw_purple_no_replace(1000000, 10, 5, 4))\n",
    "print\n",
    "print \"Question 2\"\n",
    "print \"Theoretical result: \"+ str(float(4089)/float(149380))\n",
    "print \"Simulation result: \" + str(draw_purple_no_replace(1000000, 30, 5, 4))\n",
    "print\n",
    "print \"Question 3\"\n",
    "print \"Theoretical result: \"+ str(float(260072)/float(784245))\n",
    "print \"Simulation result: \" + str(draw_purple_no_replace(1000000, 60, 5, 4))\n",
    "print\n",
    "print \"Question 4\"\n",
    "print \"Theoretical result: \"+ str(float(43877)/float(47530))\n",
    "print \"Simulation result: \" + str(draw_purple_no_replace(1000000, 90, 5, 4))"
   ]
  },
  {
   "cell_type": "markdown",
   "metadata": {},
   "source": [
    "####Question 5 (without replacement)\n",
    "To find the probability of drawing at least four\n",
    "marbles when one jar is picked at random, we simply multiply the probability of\n",
    "picking a given jar by the probability of picking at least four purple marbles from that jar. Since each jar is equally likely to be picked, each one has a 1/4 probability of being picked. We sum all these probabilities together to find the probability when a jar is picked at random:\n",
    "\n",
    "$$P = (\\frac{1}{4} \\cdot \\frac{779,919}{3,065,902}) + (\\frac{1}{4} \\cdot \\frac{4,089}{149,380}) + (\\frac{1}{4} \\cdot \\frac{260,072}{784,245}) + (\\frac{1}{4} \\cdot \\frac{43,877}{47,530}) \\approx 0.3205$$\n",
    "\n",
    "__Using our previous code, we can simulate this:__"
   ]
  },
  {
   "cell_type": "code",
   "execution_count": null,
   "metadata": {
    "collapsed": true
   },
   "outputs": [],
   "source": [
    "import random\n",
    "\n",
    "NUM_JARS = 4\n",
    "\n",
    "def draw_all_jars_no_replace(num_trials): "
   ]
  },
  {
   "cell_type": "code",
   "execution_count": 34,
   "metadata": {
    "collapsed": false
   },
   "outputs": [
    {
     "name": "stdout",
     "output_type": "stream",
     "text": [
      "Question 1\n",
      "Theoretical result: 0.00046\n",
      "Simulation result: 0.000495\n"
     ]
    }
   ],
   "source": [
    "def draw_purple_replace(num_trials, tot_purple, num_to_draw, num_purple):\n",
    "    \"\"\"\n",
    "    Simulates the probability of drawing at least num_to_draw purple marbles,\n",
    "    given tot_purple marbles in the jar with replacement. Generalized to \n",
    "    handle Questions 1, 2, 3.\n",
    "    \n",
    "    @param num_trials: the number of trials to run\n",
    "    @param tot_purple: the total number of purple marbles in the jar. Note that\n",
    "                       this implies (TOT_MARBLES - tot_purple) gold marbles.\n",
    "    @param num_to_draw: the total number of marbles drawn out of the jar\n",
    "    @param num_purple: the minimum number of purple marbles we want in a draw\n",
    "    \"\"\"\n",
    "    success = 0 # counts number of successful trials\n",
    "    \n",
    "    # 1 is purple, 0 is gold\n",
    "    purple = [1] * tot_purple\n",
    "    gold = [0] * (TOT_MARBLES - tot_purple)\n",
    "    jar = purple + gold\n",
    "    \n",
    "    for x in range(num_trials):\n",
    "        purple_count = 0\n",
    "        \n",
    "        for i in range(num_to_draw):\n",
    "            # if purple, purple_count will increment\n",
    "            purple_count += random.choice(jar) \n",
    "         \n",
    "        if purple_count >= num_purple:\n",
    "            success += 1\n",
    "            \n",
    "    return float(success)/float(num_trials)\n",
    "\n",
    "print \"Question 1\"\n",
    "print \"Theoretical result: \"+ str(float(23)/float(50000))\n",
    "print \"Simulation result: \" + str(draw_purple_replace(1000000, 10, 5, 4))"
   ]
  },
  {
   "cell_type": "markdown",
   "metadata": {},
   "source": [
    "##6.2 Word Orderings"
   ]
  },
  {
   "cell_type": "markdown",
   "metadata": {},
   "source": [
    "##6.3 Partitions"
   ]
  }
 ],
 "metadata": {
  "kernelspec": {
   "display_name": "Python 2",
   "language": "python",
   "name": "python2"
  },
  "language_info": {
   "codemirror_mode": {
    "name": "ipython",
    "version": 2
   },
   "file_extension": ".py",
   "mimetype": "text/x-python",
   "name": "python",
   "nbconvert_exporter": "python",
   "pygments_lexer": "ipython2",
   "version": "2.7.10"
  }
 },
 "nbformat": 4,
 "nbformat_minor": 0
}
