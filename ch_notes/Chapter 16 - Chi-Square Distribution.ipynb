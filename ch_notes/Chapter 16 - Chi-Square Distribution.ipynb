{
 "cells": [
  {
   "cell_type": "markdown",
   "metadata": {},
   "source": [
    "#Chapter 16: The Chi-Square Distribution\n",
    "\n",
    "####Definition\n",
    "\n",
    "If $X$ is a chi-square distribution with $\\nu \\ge 0$ degrees of freedom, then $X$ has density:\n",
    "\n",
    "$$f(x) = \\begin{cases}\n",
    "\\frac{1}{2^{\\nu/2} \\Gamma(\\nu / 2)} x^{(\\nu/2-1)} e^{-x/2} & \\text{if } x \\ge 0 \\\\\n",
    "0 & \\text{otherwise.}\n",
    "\\end{cases}$$\n",
    "\n",
    "We write $X \\sim \\chi^2(\\nu)$, where $\\nu$ is commonly referred to as __degrees of freedom__."
   ]
  },
  {
   "cell_type": "markdown",
   "metadata": {},
   "source": [
    "##16.1 Origin of the Chi-Square Distribution\n",
    "\n",
    "####Relation betweeen Chi-Square and Normal Random Variables\n",
    "\n",
    "If $X \\sim N(0,1)$ then $X^2 \\sim \\chi^2(1)$. "
   ]
  },
  {
   "cell_type": "markdown",
   "metadata": {},
   "source": [
    "##16.2 Mean and Variance of $X \\sim \\chi^2(1)$\n",
    "\n",
    "Mean of $X \\sim \\chi^2(1)$ is 1, variance is 2. In general:\n",
    "\n",
    "$$\\mu(\\chi^2(\\nu)) = \\nu$$\n",
    "\n",
    "$$\\sigma^2(\\chi^2(\\nu)) = 2\\nu$$"
   ]
  },
  {
   "cell_type": "markdown",
   "metadata": {},
   "source": [
    "##16.3 Chi-Square distribution and sums of Normal Random Variables\n",
    "\n",
    "Let $k$ be a positive integer, and $X_1,...,X_k$ independent standard normal random variables; this means each $X_i \\sim N(0,1)$. Then if $Y_k = X^2_1 + ... + X_k^2, Y_k \\sim \\chi^2(k)$. More generally, let $Y_{\\nu_1},...,Y_{\\nu_m}$ be independent chi-square random variables, where $Y_{\\nu_i} \\sim \\chi^2(\\nu_i)$. Then $Y = Y_{\\nu_1} + ... + Y_{\\nu_m}$ is a chi-square random variable with $\\nu_1 + ... + \\nu_m$ degrees of freedom.\n",
    "\n",
    "Using the Theory of Normalization Constants allows us to aovid some very difficult integrals."
   ]
  },
  {
   "cell_type": "markdown",
   "metadata": {},
   "source": [
    "##16.4 Summary\n",
    "\n",
    "The chi-square is a stable distribution, meaning that the shape of the sum of independent copies is the same shape as the constituents.\n",
    "\n",
    "- __Chi-Square Goodness of Fit test:__ measures whether a set of categorical data came form a certain discrete distribution\n",
    "- __Chi-Square test of homogeneity:__ applied to a single categorical variable from more than one distinct population, and tests to see if frequency counts of that variable are statistically different among the populations\n",
    "- __Chi-Square test of independence:__ applied to multiple categorical variables from the same population, determining if the association between the variables within the same population is statistically significant...tests to see if independence exists between the variables"
   ]
  }
 ],
 "metadata": {
  "kernelspec": {
   "display_name": "Python 2",
   "language": "python",
   "name": "python2"
  },
  "language_info": {
   "codemirror_mode": {
    "name": "ipython",
    "version": 2
   },
   "file_extension": ".py",
   "mimetype": "text/x-python",
   "name": "python",
   "nbconvert_exporter": "python",
   "pygments_lexer": "ipython2",
   "version": "2.7.10"
  }
 },
 "nbformat": 4,
 "nbformat_minor": 0
}
