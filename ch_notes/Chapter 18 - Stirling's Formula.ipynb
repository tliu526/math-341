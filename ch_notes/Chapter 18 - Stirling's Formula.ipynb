{
 "cells": [
  {
   "cell_type": "markdown",
   "metadata": {},
   "source": [
    "#Chapter 18: Stirling's Formula\n",
    "\n",
    "\n",
    "####Definition\n",
    "\n",
    "As $n\\to \\infty$, we have:\n",
    "\n",
    "$$n! \\approx n^n e^{-n} \\sqrt{2\\pi n}$$\n",
    "\n",
    "By this we mean:\n",
    "\n",
    "$$\\lim_{n \\to \\infty} \\frac{n!}{n^ne^{-n}\\sqrt{2 \\pi n}} = 1$$\n",
    "\n",
    "##18.1 Stirling's Formula and Probabilities"
   ]
  },
  {
   "cell_type": "markdown",
   "metadata": {},
   "source": [
    "##18.2 Stirling's Formula and Convergence of Series\n",
    "\n",
    "To determine if a series converges, it's enough to study the tail, as the finite number of summands in the beginning don't affect convergence."
   ]
  },
  {
   "cell_type": "markdown",
   "metadata": {},
   "source": [
    "##18.3 From Stirling to the Central Limit Theorem\n",
    "\n",
    "####Lemma 18.3.1\n",
    "\n",
    "The error term in proving CLT for binomial random variables.\n",
    "\n"
   ]
  },
  {
   "cell_type": "markdown",
   "metadata": {},
   "source": [
    "##18.4 Integral Test and the Poor Man's Stirling\n",
    "\n",
    "####Definition (Poor Man's Stirling)\n",
    "\n",
    "Let $n \\ge 3$ be a positive integer. Then: \n",
    "\n",
    "$$n^n e^{-n} \\cdot e \\le n! \\le n^n e^{-n} \\cdot en$$\n",
    "\n",
    "####Proof \n",
    "\n",
    "We can use the integral test (Fundamental Theorem of Calculus) to get upper and lower bounds on $\\sum_{k=1}^n\\log(k)$\n",
    "\n",
    "The anti-derivative of $\\log(t)$ is $t \\log(t) - t$ "
   ]
  },
  {
   "cell_type": "markdown",
   "metadata": {},
   "source": [
    "##18.5 Elementary Approaches towards Stirling's Formula\n",
    "\n",
    "###18.5.1 Dyadic Decompositions\n",
    "\n",
    "Idea: break the initial problem into two smaller problems, work on those, and combine those results.\n",
    "\n",
    "###18.5.2 Lower bounds towards Stirling, I\n",
    "\n",
    "###18.5.2 Lower bounds towards Stirling, II\n",
    "\n",
    "###18.5.4 Lower bounds towrads Stirling, III"
   ]
  },
  {
   "cell_type": "markdown",
   "metadata": {},
   "source": [
    "###18.6 Stationary Phase and Stirling\n",
    "\n",
    "__Method of stationary phase__: approximating highly oscillatory integrals by looking for the source of most of the contribution.\n"
   ]
  },
  {
   "cell_type": "markdown",
   "metadata": {},
   "source": [
    "##18.7 The Central Limit Theorem and Stirling\n",
    "\n",
    "We can use the sume of Poisson Random Variables with parameter 1 and the cental limit theorem to prove Stirling's Formula. We can approximate the Poisson's mass at $n$ by integrating the continuous density of the standard normal from $n - 1/2$ to $n+ 1/2$ since the Normal distribution is continuous and the Poisson is discrete."
   ]
  }
 ],
 "metadata": {
  "kernelspec": {
   "display_name": "Python 2",
   "language": "python",
   "name": "python2"
  },
  "language_info": {
   "codemirror_mode": {
    "name": "ipython",
    "version": 2
   },
   "file_extension": ".py",
   "mimetype": "text/x-python",
   "name": "python",
   "nbconvert_exporter": "python",
   "pygments_lexer": "ipython2",
   "version": "2.7.10"
  }
 },
 "nbformat": 4,
 "nbformat_minor": 0
}
