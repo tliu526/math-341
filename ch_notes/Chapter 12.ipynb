{
 "cells": [
  {
   "cell_type": "markdown",
   "metadata": {},
   "source": [
    "#Chapter 12: Discrete Distributions\n",
    "\n",
    "##12.1 The Bernoulli Distribution\n",
    "\n",
    "A variable $X$ has a __Bernoulli Distribution__ with parameter $p \\in [0,1]$ if $Prob(X=1) = p$ and $Prob(X = 0) = 1-p$. We view the outcome 1 as a __success__, and 0 as a __failure__. We write $X \\sim Bern(p)$. We also call $X$ a __binary indicator random variable__.\n",
    "\n",
    "###Theorem\n",
    "\n",
    "If $X \\sim Bern(p)$ then its mean $\\mu_X = p$ and its variance $\\sigma^2_X = p(1-p)$."
   ]
  },
  {
   "cell_type": "markdown",
   "metadata": {},
   "source": [
    "##12.2 The Binomial Distribution\n",
    "\n",
    "Let $n$ be a positive integer and let $p \\in [0,1]$. Then $X$ has the _binomial distribution_ with parameters $n$ and $p$ if:\n",
    "\n",
    "$$Prob(X=k)= \\begin{cases}\n",
    "\\binom{n}{k}p^k(1-p)^{n-k} & \\text{if } k \\in \\{0,1,...,n\\} \\\\\n",
    "0 & \\text{otherwise.}\n",
    "\\end{cases}$$\n",
    "\n",
    "We write $X \\sim \\text{Bin}(n,p)$. The mean of $X$ is $np$ and the variance is $np(1-p)$.\n",
    "\n",
    "We can find the mean and variance in a number of different ways:\n",
    "- differentiating identities (Section 11.3)\n",
    "- linearity of expectation (Section 9.5)\n",
    "\n"
   ]
  },
  {
   "cell_type": "markdown",
   "metadata": {},
   "source": [
    "##12.3 The Multinomial Distribution\n",
    "\n",
    "###Definition\n",
    "Let $n,k$ be positive integers, and let $p_1,p_2,...,p_n \\in [0,1]$ be such that $p_1 + ... + p_n = 1$. Let $x_1,...,x_n \\in \\{0,1,...,n\\}$ be such that $x_1 + ... + x_n = n$. The corresponding __multinomial coefficient__ is:\n",
    "\n",
    "$$\\binom{n}{x_1,x_2,...x_k} = \\frac{n!}{x_1!x_2!...x_k!}$$\n",
    "\n",
    "and all other choices of the $x_i's$ evaluate to zero. The __multinomial distribution__ with parameters $n,k$ and $p_1,...p_k$ is non-zero only for such $(x_1,...,x_k)$, where the density is:\n",
    "\n",
    "$$\\binom{n}{x_1,x_2,...x_k}p_1^{x_1}p_2^{x_2}...p_k^{x_k}$$\n",
    "\n",
    "We write $X \\sim \\text{Multinomial}(n,k,p_1,...,p_k)$."
   ]
  },
  {
   "cell_type": "markdown",
   "metadata": {},
   "source": [
    "##12.4 The Geometric Distribution\n",
    "\n",
    "###Definition\n",
    "\n",
    "Let $p \\in [0,1]$. A random variable $X$ has the geometric distribution with parameter $p$ if:\n",
    "\n",
    "$$\\text{Prob}(X = n) = \\begin{cases}\n",
    "p(1-p)^{n-1} &\\text{if } n \\in \\{1,2,3,....\\} \\\\\n",
    "0 & \\text{otherwise.}\n",
    "\\end{cases}\n",
    "$$\n",
    "\n",
    "We write $X \\sim Geom(p)$. The mean is $1/p$ and the variance is $\\frac{1-p}{p^2}$."
   ]
  },
  {
   "cell_type": "markdown",
   "metadata": {},
   "source": [
    "##12.5 The Negative Binomial Distribution\n",
    "\n",
    "Idea: create a random variable which counts how long we need to wait until we have $r$ successes.\n",
    "\n",
    "###Definition\n",
    "Let $r$ be a positive integer and $p \\in [0,1]$. Let $X$ be the random variable counting the number of successes obtained from tossing a coin with probability $p$ of a success (a head) until getting exactly $r$ failures (a tail). $X$ has the __negative binomial distribution__ with parameters $r$ and $p$. Its density is:\n",
    "\n",
    "$$Prob(X = k) = \\begin{cases}\n",
    "\\binom{k-r-1}{k} p^k (1-p)^r $ \\text{if } k \\in \\{0,1,2...\\} \\\\\n",
    "0 & \\text{otherwise.}\n",
    "\\end{cases}\n",
    "$$\n",
    "\n",
    "We write $X \\sim \\text{NegBin}(r,p). The mean is $\\frac{pr}{1-p}$ and the variance is $\\frac{pr}{(1-p)^2}$."
   ]
  },
  {
   "cell_type": "markdown",
   "metadata": {},
   "source": [
    "##12.6 The Poisson Distribution\n",
    "\n",
    "\n",
    "###Definition\n",
    "Let $\\lambda > 0$. Then $X$ is a __poisson random variable__ with parameter $\\lambda$ if:\n",
    "\n",
    "$$Prob(X = n) = \\begin{cases}\n",
    "\\lambda^n e^{-\\lambda} / n! & \\text{if } n \\in \\{0,1,2...\\} \\\\ \n",
    "0 & \\text{otherwise.}\n",
    "\\end{cases}$$\n",
    "\n",
    "The mean and variance are both $\\lambda$."
   ]
  },
  {
   "cell_type": "markdown",
   "metadata": {},
   "source": [
    "##12.7 The Discrete Uniform Distribution\n",
    "\n",
    "Generalization of the Bernoulli random variable to $n$ equally likely outcomes.\n",
    "\n",
    "###Definition\n",
    "Let $\\{a_1, a_2,...,a_n\\}$ be a finite set. $X$ is a __discrete random variable__ if:\n",
    "\n",
    "$$Prob(X = a) = \\begin{cases}\n",
    "1/n & \\text{if } a \\in \\{a_1, a_2,...,a_n\\} \\\\\n",
    "0 & \\text{otherwise.}\n",
    "\\end{cases}$$\n",
    "\n",
    "The most important case is when the set is $\\{a, a+1, a+2,...,a+n-1\\}$. In that case, the mean is $a + \\frac{n-1}{2}$ and the variance is $\\frac{n^2-1}{12}$."
   ]
  }
 ],
 "metadata": {
  "kernelspec": {
   "display_name": "Python 2",
   "language": "python",
   "name": "python2"
  },
  "language_info": {
   "codemirror_mode": {
    "name": "ipython",
    "version": 2
   },
   "file_extension": ".py",
   "mimetype": "text/x-python",
   "name": "python",
   "nbconvert_exporter": "python",
   "pygments_lexer": "ipython2",
   "version": "2.7.10"
  }
 },
 "nbformat": 4,
 "nbformat_minor": 0
}
