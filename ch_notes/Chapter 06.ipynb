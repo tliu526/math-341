{
 "cells": [
  {
   "cell_type": "markdown",
   "metadata": {},
   "source": [
    "#Chapter 6: Counting III: Advanced Combinatorics"
   ]
  },
  {
   "cell_type": "markdown",
   "metadata": {},
   "source": [
    "##6.1 Basic Counting\n",
    "\n",
    "###6.1.1. Enumerating Cases: I\n",
    "\n",
    "_Example 6.1.1:_ A CD player can hold 6 CDs. We play 10 songs with the randomizer on; how many possibilities are there for which CDs are chosen?\n",
    "\n",
    "- There are 6 possible choices for the first song, and after the first song, there are again 6 possible choices. Thus the possibilities are $6^{10} = 60,466,176$.\n",
    "\n",
    "_Example 6.1.1 (cont.):_ How many of these possibilities never have CD 2, 3, or 6 played?\n",
    "\n",
    "- To count the possibilities not involving CDs 2, 3, 6, there are 3 possible choices for the first song, and 3 choices for the second song, and so on. Thus there are $3^{10} = 59,049$ possibilities not involving CDs 2, 3, and 6.\n",
    "\n",
    "_Example 6.1.1 (cont.):_ If we have an improved randomizer that doesn't play two songs in a row from the same CD, what is the probability that we never hear a song from CD 2, 3, or 6?\n",
    "\n",
    "- For the first song we have 3 choices of CDs. Afterwards however, we only have 2 choices for the remaining CDs that aren't 2, 3, or 6. Thus we have $3 \\cdot 2^9 = 1,536$ possibilities for this case.\n",
    "\n",
    "###6.1.2 Enumerating Cases: II\n",
    "\n",
    "_Example 6.1.2:_ License plates start with three letters followed by three numbers. How many different license plates are there?\n",
    "\n",
    "- There are 26 choices for the letters, and 10 choices for the numbers, giving us: $26 \\cdot 26 \\cdot 26 \\cdot 10 \\cdot 10 \\cdot 10 = 17,576,000$ total license plates.\n",
    "\n",
    "_Example 6.1.2 (cont.):_ How many plates are there if vowels or even numbers are not allowed?\n",
    "\n",
    "- Now there are only 21 choices for letters and 5 choices for numbers, giving us: $21 \\cdot 21 \\cdot 21 \\cdot 5 \\cdot 5 \\cdot 5 = 1,157,625$.\n",
    "\n",
    "_Example 6.1.2 (cont.):_ What's the probability that two people have exactly four of their six digits equal?\n",
    "\n",
    "- There are $\\binom{6}{2} = 15$ ways for exactly two symbols to be different. There are 3 ways for two numbers to be different, 3 ways for two letters to be different, and 9 ways for one letter and one number to be different.\n",
    "\n",
    "  - If two letters are different, we have 25 choices for the first letter and 25 choices for the second letter. Then we choose the remaining symbols (which are the same for both license plates). We then have $25 \\cdot 25 \\cdot 26 \\cdot 10 \\cdot 10 \\cdot 10 = 16,250,000$ playtes in this case. Since there are 3 possibilities, there are $48,750,000$ possibilities for this case.\n",
    "  \n",
    "  - If two digits are different, then we have $9 \\cdot 9$ ways for the license plates to be different. With all the other digits the same and 3 possible ways for two numbers to be different, we have $25 \\cdot 25 \\cdot 26 \\cdot 9 \\cdot 9 \\cdot 10 \\cdot 3= 42,709,680$ possibilities.\n",
    "  \n",
    "  - Last case follows exact same logic: $136,890,000$ possibilities.\n",
    "  \n",
    "- We then sum all these values up and divide by the number of pairs, which is $17,576,000^2$. Sadly, this is the nicest way to calculate this probability.\n",
    "\n",
    "###6.1.3 Sampling with and without replacement\n",
    "\n",
    "_Example 6.1.3 (1):_ Assume we draw five marbles from the jar that has 10 purple marbles and 90 golf marbles. What is the probability we have at least four purple marbles?\n",
    "\n",
    "####Solving without replacement\n",
    "\n",
    "Two cases: drawing 5 purple marbles, and drawing 4 purple marbles and 1 gold marble.\n",
    "\n",
    "- (All five purple) When drawing the first, the probability to pick a purple marble is $10/100$, then there is probability of $9/99$ to pick the next one, and so on.\n",
    "Another way to view it is that there are $\\binom{100}{5}$ ways to choose five marbles without replacement, and $\\binom{10}{5}$ ways to choose all five marbles from the set of ten purple, thus $\\binom{10}{5} / \\binom{100}{5}$.\n",
    "\n",
    "- (Four purple and one gold) Suppose the gold marble was picked first, there is a $90/100$ chance of that happening. Then the probability of choosing a purple becomes $10/99$, $9/98$... If we suppose that the gold marble was picked second,  we end up with the same value as if the gold marble was pixked first because the numerator and denominators contain the same values and because multiplcation is communtative. Thus there are $\\binom{5}{1}$ ways to pick a gold marble position, and we multiply that by the probability we get for one case. This can also be viewed as $\\binom{10}{4}\\binom{90}{1}/\\binom{100}{5}$.\n",
    "\n",
    "\n",
    "####Solving with replacement\n",
    "\n",
    "Again, there are two cases: 5 purple marbles, and 4 purple marbles and 1 gold marble.\n",
    "\n",
    "- (All five purple) There are ten marbles out of a possible hundred, giving us a probability of $10/100$. Since this is with replacement, the probability is $\\frac{1}{10}^5$.\n",
    "\n",
    "- (Four purple and one gold) Applying the same technique as before, we have $\\frac{9}{10} \\cdot \\frac{1}{10}^4 \\cdot 5$ (for the 5 different positions of the gold marble)."
   ]
  },
  {
   "cell_type": "code",
   "execution_count": 2,
   "metadata": {
    "collapsed": false
   },
   "outputs": [
    {
     "name": "stdout",
     "output_type": "stream",
     "text": [
      "48750000\n"
     ]
    }
   ],
   "source": [
    "print 25*25*26*10*10*10*3"
   ]
  },
  {
   "cell_type": "markdown",
   "metadata": {},
   "source": [
    "##6.2 Word Orderings\n",
    "\n",
    "###6.2.1 Counting Orderings\n",
    "\n",
    "How many five letter words can we form with the word MAINE? Since there are no repeats, this is just $5!$. \n",
    "\n",
    "With words with repeats, we are interested in counting the _distinguishable words_. For ALABAMA, there are 4 A's. Those four A's can go in any order, and so we \"remove\" the ordering of those four letters from our solution set. Thus we have $7!/4!$ distinguishable words.\n",
    "\n",
    "Another way to do this is to choose 4 spots for the A's. There are $\\binom{7}{4}$ ways to do this. Of the three remaining spots, there are $3!$ ways to insert the remaining letters. $\\binom{7}{4} \\cdot 3! = 7!/4!$.\n",
    "\n",
    "Looking at KANSAS, there are two instances of both A's and S's. There are $2!$ ways to order the A's and S's, and so the number of distinguishable 6 letter words that can be created is $\\frac{6!}{2!2!}$. Viewing this using binomials, there are $\\binom{6}{2}$ ways to pick a spot for the A's, $\\binom{4}{2}$ ways to pick a spot for the S's, and $2!$ ways to place the remaining letters.\n",
    "\n",
    "####Definition (Distinguishable Orderings)\n",
    "\n",
    "Consider a word with $k$ distinct letters, and $N$ total letters. Let the first letter occur $n_1$ times, the secon $n_2$ times..., and the $k^{th}$ letter $n_k$ times so $n_1 + ... + n_k = N$. Then the number of distinguishable words that can be formed is:\n",
    "\n",
    "$$\\frac{N!}{(n_1!...n_k!)}$$.\n",
    "\n",
    "###6.2.2 Multinoial coefficients\n",
    "\n",
    "####Definition (Multinomial coefficients)\n",
    "\n",
    "Let $N$ be a positive integer, and let $n_1, n_2, ..., n_k$ be non-negative integers that sum to $N$. The associated multinomial coefficient is:\n",
    "\n",
    "$$\\binom{N}{n_1,n_2,...,n_k} = \\frac{N!}{n_1!n_2!...n_k!}$$ \n",
    "\n",
    "We use a _proof by grouping_ to prove this is the case (p. 216)."
   ]
  },
  {
   "cell_type": "markdown",
   "metadata": {},
   "source": [
    "##6.3 Partitions\n",
    "\n",
    "###6.3.1 The Cookie Problem (aka Stars and Bars)\n",
    "\n",
    "Assume we hae 10 identical cookies and 5 distinct people. How many different ways can we divide the cookies among the people, such that all 10 cookies are distributed?\n",
    "\n",
    "We cannot simply say $5^{10}$ as the cookies are indistinguishable. \n",
    "\n",
    "####Definition (The Cookie Problem Solution)\n",
    "\n",
    "The number of distinct ways to divide $C$ identical cookies among $P$ different people is $\\binom{C+P-1}{P-1}$.\n",
    "\n",
    "Proof starting on p. 219.\n",
    "\n",
    "Two ways to view 'partitions': we're either adding partitions, or we're partitioning a number $n$. The cookie problem is the same as counting the number of solutions to $x_1 + x_2 + x_3 + x_4 + x_5 = 10$.\n",
    "\n",
    "###6.3.2 Lotteries\n",
    "\n",
    "_Example 6.3.1_ is choice without replacement, thus we use binomial coefficient to calculate.\n",
    "\n",
    "_Example 6.3.2_ allows for repeats of numbers in the six balls chosen. We apply the stars and bars formula here.\n",
    "\n",
    "\n",
    "##6.4 Summary\n",
    "\n",
    "Regroup expressions, reduce to simpler problems."
   ]
  }
 ],
 "metadata": {
  "kernelspec": {
   "display_name": "Python 2",
   "language": "python",
   "name": "python2"
  },
  "language_info": {
   "codemirror_mode": {
    "name": "ipython",
    "version": 2
   },
   "file_extension": ".py",
   "mimetype": "text/x-python",
   "name": "python",
   "nbconvert_exporter": "python",
   "pygments_lexer": "ipython2",
   "version": "2.7.10"
  }
 },
 "nbformat": 4,
 "nbformat_minor": 0
}
