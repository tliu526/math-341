{
 "cells": [
  {
   "cell_type": "markdown",
   "metadata": {},
   "source": [
    "#Chapter 2: Basic Probability Laws\n",
    "\n",
    "###2.2.1 Sizes of Infinity and Probabilities\n",
    "\n",
    "##2.3 Outcome Spaces, Events and The Axioms of Probability\n",
    "\n",
    "Call $\\Omega$ the __sample space__ or __outcome space__ and the elements of $\\Omega$ the events.\n",
    "\n",
    "__Always ask, are objects distinguishable?__\n",
    "\n",
    "##2.4 Axioms of Probability\n",
    "\n",
    "The special subset $\\Sigma$ of $\\Omega$ that we can define the probability function on is is called a $\\sigma$-algebra. If $\\Omega$ is finite or countable, we can choose $\\Sigma$ to be every possible subset.\n",
    "\n",
    "We call the triple $(\\Omega, \\Sigma, \\text{Prob})$ a __probability space__. We use the function Pr to assign probabilities to subsets of $\\Sigma$, our special $\\sigma$-algebra of sets where Pr is defined.\n",
    "\n",
    "####Definition (Kolmogorov's Axioms of Probability)\n",
    "\n",
    "$(\\Omega, \\Sigma, \\text{Prob})$ is a probability space if the probability function satisfies:\n",
    "\n",
    "- If $A \\in \\Sigma$ then $Pr(A)$ is defined and $0 \\le Pr(A) \\le 1$\n",
    "- $Pr(\\emptyset) = 0$ and $Pr(\\Omega) = 1$\n",
    "- Let $\\{A_i\\}$ be a finite or countable collection of disjoint elements of $\\Sigma$. Then $Pr(\\cup_i A_i) = \\sum_i Pr(A_i)$."
   ]
  },
  {
   "cell_type": "markdown",
   "metadata": {},
   "source": [
    "##2.5 Basic Probability Rules\n",
    "\n",
    "####Useful Rules for Probability Spaces\n",
    "\n",
    "Let $(\\Omega, \\Sigma, \\text{Prob})$ be a probability space. Then:\n",
    "\n",
    "- \"Law of Total Probability\": If $A \\in \\Sigma$, then $Pr(A) + Pr(A^c) = 1$\n",
    "\n",
    "- Inclusion-Exclusion: $Pr(A \\cup B) = Pr(A) + Pr(B) - Pr(A \\cap B)$. This can be generalized.\n",
    "\n",
    "- If $A \\subset B$, then $Pr(A) \\le Pr(B)$. If however A is a proper subset of B we don't necessarily have $Pr(A) < Pr(B)$ but we do know for certain that $Pr(B) = Pr(A) + Pr(B \\cap A^c)$, where $B \\cap A^c$ refers to all elements of $B$ that aren't in A.\n",
    "\n",
    "- Let $A_i \\subset B$ for all $i$. Then $Pr(\\cup_i A_i) \\le Pr(B)$.\n",
    "\n",
    "Note: when we're given unions, we often want to choose new sets so that we have a disjoint union."
   ]
  }
 ],
 "metadata": {
  "kernelspec": {
   "display_name": "Python 2",
   "language": "python",
   "name": "python2"
  },
  "language_info": {
   "codemirror_mode": {
    "name": "ipython",
    "version": 2
   },
   "file_extension": ".py",
   "mimetype": "text/x-python",
   "name": "python",
   "nbconvert_exporter": "python",
   "pygments_lexer": "ipython2",
   "version": "2.7.10"
  }
 },
 "nbformat": 4,
 "nbformat_minor": 0
}
