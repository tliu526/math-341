{
 "cells": [
  {
   "cell_type": "markdown",
   "metadata": {},
   "source": [
    "#Chapter 1: Introduction\n",
    "\n",
    "##1.2 From Shooting Hoops to the Geometric Series\n",
    "\n",
    "__Problem Statement:__ Bird and Magic take turns shooting. Bird makes with probability $p$ (thus missing with probability $1-p$), and Magic makes with probability $q$. If Bird shoots first, what is the probability that he wins the shootout?\n",
    "\n",
    "####Definition (Geometric Series Formula)\n",
    "\n",
    "Let $|r| \\le 1$. Then:\n",
    "\n",
    "$$\\sum_{n=0}^{\\infty} r^n = 1 + r + r^2 + r^3 + ... = \\frac{1}{1-r}$$\n",
    "\n",
    "Let $r = (1-p)(1-q)$. Then we see that:\n",
    "\n",
    "$$Pr(\\text{Bird wins}) = p + rp + r^2p + r^3p + ... = p \\sum_{n=0}^{\\infty} r^n = \\frac{p}{1-r}$$\n",
    "\n",
    "An alternate way to solve this problem: let $x$ be the probability that Bird wins. If $x$ is the probability that Bird wins the game with Bird getting the first shot, then $x$ is also the probability that Bird wins after he and Magic miss their first shots. Thus Bird's probability of winning in the model is the same regardless of how many times he and magic have missed. This is an example of a __memoryless process__. Thus we have:\n",
    "\n",
    "$$x = p + rx$$\n",
    "$$x - rx = p$$\n",
    "$$x = \\frac{p}{1-r}$$\n",
    "\n",
    "Guides to tackle problems:\n",
    "\n",
    "- Clearly define the problem. Be careful about hidden assumptions. Be explicit; if you need to assume asomething, do so but make note of the fact.\n",
    "\n",
    "- Choose good notation\n",
    "\n",
    "- Do special cases first to build intuition"
   ]
  },
  {
   "cell_type": "markdown",
   "metadata": {},
   "source": [
    "##1.3 Gambling\n",
    "\n"
   ]
  }
 ],
 "metadata": {
  "kernelspec": {
   "display_name": "Python 2",
   "language": "python",
   "name": "python2"
  },
  "language_info": {
   "codemirror_mode": {
    "name": "ipython",
    "version": 2
   },
   "file_extension": ".py",
   "mimetype": "text/x-python",
   "name": "python",
   "nbconvert_exporter": "python",
   "pygments_lexer": "ipython2",
   "version": "2.7.10"
  }
 },
 "nbformat": 4,
 "nbformat_minor": 0
}
