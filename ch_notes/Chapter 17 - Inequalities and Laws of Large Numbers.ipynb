{
 "cells": [
  {
   "cell_type": "markdown",
   "metadata": {},
   "source": [
    "#Chapter 17: Inequalities and Laws of Large Numbers"
   ]
  },
  {
   "cell_type": "markdown",
   "metadata": {},
   "source": [
    "##17.1 Inequalities\n"
   ]
  },
  {
   "cell_type": "markdown",
   "metadata": {},
   "source": [
    "##17.2 Markov's Inequality\n",
    "\n",
    "####Definition\n",
    "\n",
    "Let $X$ be a non-negative random variable wit finite mean $\\mathbb{E}$, thus $Pr(X < 0) = 0$. Then for any positive $a$ we have:\n",
    "\n",
    "$$Pr(X \\ge a) \\le \\frac{\\mathbb{E}[X]}{a}$$\n",
    "\n",
    "$$Pr(X < a) \\ge 1- \\frac{\\mathbb{E}[X]}{a}$$\n",
    "\n",
    "Generalizing, we have that:\n",
    "\n",
    "$$Pr( X \\ge l\\mathbb{E}[X]) \\le \\frac{1}{l}$$"
   ]
  },
  {
   "cell_type": "markdown",
   "metadata": {},
   "source": [
    "##17.3 Chebyshev's Inequality\n",
    "\n",
    "###17.3.1 Statement\n",
    "\n",
    "####Theorem (Chebyshev's Inequality)\n",
    "\n",
    "Let $X$ be a random variable with finite mean $\\mu_X$ and finite variance $\\sigma_X^2$. Then for any $k > 0$ we have:\n",
    "\n",
    "$$Pr(|X - \\mu_X| \\ge k\\sigma_X) \\le \\frac{1}{k^2}$$\n",
    "\n",
    "$$Pr(|X - \\mu_X| < k\\sigma_X) > 1- \\frac{1}{k^2}$$\n",
    "\n",
    "This means that the probability of obtaining a value at least $k$ standard deviations from the mean is at most $1/k^2$.\n",
    "\n",
    "###17.3.2 Proof\n",
    "The proof of Chebyshev's Inequality can utilize Markov's Inequality."
   ]
  },
  {
   "cell_type": "markdown",
   "metadata": {},
   "source": [
    "##17.4 The Boole and Bonferroni Inequalities\n",
    "\n",
    "####Definition (Boole's Inequality):\n",
    "\n",
    "If we have countably many $A_i$'s:\n",
    "\n",
    "$$Pr(\\bigcup_{i=1}^n A_I) \\le \\sum_{i=1}^n Pr(A_i)$$\n",
    "\n",
    "####Definition (Bonferroni's Inequality)\n",
    "Let:\n",
    "\n",
    "$$S_k = \\sum_{1 \\le i_1 < i_2 < ... < i_k \\le n} Pr(A_{i_1} \\cap A_{i_2} \\cap ... \\cap A_{i_k})$$\n",
    "\n",
    "So $S_k$ is the sum of probabilities of all intersections of $k$ of the $A_i's$; note that there are $\\binom{n}{k}$ summands.\n",
    "\n",
    "If $l$ and $m$ are positive integers, we have:\n",
    "\n",
    "$$\\sum_{k=1}^{2l} (-1)^{k-1} S_k \\le Pr(\\bigcup_{i=1}^n A_i) \\le \\sum_{k=1}^{2m-1} (-1)^{k-1} S_k$$"
   ]
  },
  {
   "cell_type": "markdown",
   "metadata": {},
   "source": [
    "##17.5 Types of Convergence\n",
    "\n",
    "###17.5.1 Convergence in Distribution (Weak Convergence)\n",
    "\n",
    "####Definition \n",
    "\n",
    "Let $X, X_1, X_2,...$ be random variables with cumulative distribution functions $F, F_1, F_2, ...$. Let $C$ be the set of all real numbers where $F$ is continuous. The sequence of random variables $X_1, X_2, ...$ __converges in distribution__ to the random variable $X$ if $\\text{lim}_{n \\to \\infty} F_n(x) = F(X)$ for all $x \\in C$.  In orther words, if $F$ is continuous at $x$ then the limit of the _cumulative distribution functions_ at $x$ equals $F(x)$. Popular ways of notating this are $X_n \\overset{d}\\to X$ or $X_n \\overset{D}\\to X$.\n",
    "\n",
    "###17.5.2 Convergence in Probability\n",
    "Let $X, X_1, X_2, ...$ be random variables. WE say the sequence $\\{X_n\\}^{\\infty}_{n=1}$ __converges in probability__ to $X$ if for every $\\epsilon > 0$ we have:\n",
    "\n",
    "$$\\text{lim}_{n \\to \\infty} Pr(|X_n - X | \\ge \\epsilon) = 0$$\n",
    "\n",
    "We denote this by $X_n \\overset{p}\\to X$.\n",
    "\n",
    "###17.5.3 Almost Sure and Sure Convergence\n",
    "\n",
    "Requires a greater analysis background, see p. 476."
   ]
  },
  {
   "cell_type": "markdown",
   "metadata": {},
   "source": [
    "##17.6 Weak and Strong Laws of Large Numbers\n",
    "\n",
    "\n",
    "####Definition (Weak Law of Large Numbers)\n",
    "\n",
    "Let $X_1, X_2,...$ be independent identically distributed random variables with mean $\\mu$, and let $\\bar{X}_n = \\frac{X_1 + ... + X_n}{n}$ Then:\n",
    "\n",
    "$$\\bar{X}_n \\overset{p}\\to \\mu$$\n",
    "\n",
    "$\\bar{X}_n$ converges in probability to $\\mu$.\n",
    "\n",
    "####Definition (Strong Law of Large Numbers)\n",
    "\n",
    "Let $X_1, X_2,...$ be independent identically distributed random variables with mean $\\mu$, and let $\\bar{X}_n = \\frac{X_1 + ... + X_n}{n}$ Then:\n",
    "\n",
    "$$\\bar{X}_n \\overset{a.s.}\\to \\mu$$"
   ]
  }
 ],
 "metadata": {
  "kernelspec": {
   "display_name": "Python 2",
   "language": "python",
   "name": "python2"
  },
  "language_info": {
   "codemirror_mode": {
    "name": "ipython",
    "version": 2
   },
   "file_extension": ".py",
   "mimetype": "text/x-python",
   "name": "python",
   "nbconvert_exporter": "python",
   "pygments_lexer": "ipython2",
   "version": "2.7.10"
  }
 },
 "nbformat": 4,
 "nbformat_minor": 0
}
