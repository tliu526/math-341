{
 "cells": [
  {
   "cell_type": "markdown",
   "metadata": {},
   "source": [
    "#Chapter 4: Conditional Probability, Independence, and Bayes' Theorem"
   ]
  },
  {
   "cell_type": "markdown",
   "metadata": {},
   "source": [
    "##4.1 Conditional Probabilities\n",
    "\n",
    "####Definition (Conditional Probability)\n",
    "Let $B$ be an event such that $Pr(B) \\gt 0$. Then the conditional probability of  $A$ given $B$ is:\n",
    "\n",
    "$$Pr(A | B) = \\frac{Pr(A \\cap B)}{Pr(B)}$$\n",
    "\n",
    "_Intuition:_ The type of probability in which we use information about an event to restrict our focus to a subset of the sample space.\n",
    "\n",
    "###4.1.2. Expected Counts Approach\n",
    "\n",
    "Idea: Simulate the event a large amount (1000 or 10000) of times and use the expected counts to make inferences on the values. Often a more intuitive way to solve conditional probability problems."
   ]
  },
  {
   "cell_type": "markdown",
   "metadata": {},
   "source": [
    "##4.2 The General Multiplication Rule\n",
    "\n",
    "####Definition (General Multiplication Rule)\n",
    "\n",
    "$$Pr(A \\cap B) = Pr (A | B) \\cdot Pr(B)$$\n",
    "\n",
    "###4.2.2 Poker Example\n",
    "\n",
    "_What is the probability of getting exactly three of a kind if your first three cards are two Jacks and a four?_\n",
    "\n",
    "First, recognize that this is a conditional probability problem. We can only get three of a kind if we get two more fours or exactly one more jack. 49 cards left, three of these are fours, so getting one four and then another is $\\frac{3}{49} \\cdot \\frac{2}{48} \\approx 0.026$ (note this is an application of the general multiplication rule). Next case, Jacks: we can either get a Jack followed by a non-jack, which is $\\frac{2}{49} \\cdot \\frac{47}{48}$ or we can get a non-Jack followed by a Jack, which is $\\frac{47}{49} \\cdot \\frac{2}{48}$ Note that these are the same two probabilities, so the overall probability is $2 \\cdot \\frac{2 \\cdot 47}{48 \\cdot 49} \\approx 0.08$.\n",
    "\n",
    "Since it's impossible to have three Jacks and three fours (since we only get five cards), we see that the probability of three of a kind is just the sum, or about $8.25\\%$."
   ]
  },
  {
   "cell_type": "markdown",
   "metadata": {},
   "source": [
    "##4.3 Independence\n",
    "\n",
    "We say that two events are independent if they don't affect one another.\n",
    "\n",
    "__Tentative definition of independence:__ Consider the events $A$ and $B$. We tentatively say that $A$ and $B$ are _independent_ if:\n",
    "\n",
    "$$Pr(A|B) = Pr(A)$$\n",
    "\n",
    "That is, $A$ and $B$ are _independent_ if the occurrence of event B doesn't change the probability that event $A$ also occurs.\n",
    "\n",
    "Thus, if $A$ and $B$ are independent events:\n",
    "\n",
    "$$Pr(A \\cap B) = Pr(A) \\cdot Pr(B)$$\n",
    "\n",
    "__Independence (Three events):__ Events $A$, $B$, $C$ are _mutually independent_ if \n",
    "\n",
    "1. $Pr(A \\cap B \\cap C) = Pr(A) \\cdot Pr(B) \\cdot Pr(C)$, and \n",
    "2. _any_ two of the three events are independent\n",
    "\n",
    "This extends to a general case definition (p. 143)."
   ]
  },
  {
   "cell_type": "markdown",
   "metadata": {},
   "source": [
    "##4.4 Bayes' Theorem\n",
    "\n",
    "Consider the events $A$ and $B$. The General Multiplication Rule implies that:\n",
    "\n",
    "$$Pr(B|A) \\cdot Pr(A) = Pr(A|B) \\cdot Pr(B)$$\n",
    "\n",
    "Therefore, so long as $Pr(B) \\ne 0$, we have:\n",
    "\n",
    "$$Pr(A|B) = Pr(B|A) \\cdot \\frac{Pr(A)}{Pr(B)}$$\n",
    "\n",
    "Key idea: _communtativity_. $A \\cap B = B \\cap A$.\n",
    "\n",
    "####Example (Tuberculosis)\n",
    "\n",
    "Using _partitions_, $Pr(A) = Pr(A \\cap B) + Pr(A \\cap B^c)$.\n",
    "\n",
    "__Partitions in two:__ Let $B$ be and event so that $0 \\lt Pr(B) \\lt A$ (and thus the same is true for $B^c$). Then we may partition the event $A$ into two disjoint events, $A \\cap B$ and $A \\cap B^c$, and\n",
    "\n",
    "$$Pr(A) = Pr(A|B)Pr(B) + Pr(A|B^c)Pr(B^c)$$\n",
    "\n",
    "We're breaking the probability of $A$ into two cases: what happens if $B$ happens, plus what happens if $B$ doesn't.\n",
    "\n",
    "####Example (Red and Blue Balls)\n",
    "\n",
    "Probability of red ball from first urn is 0.4, and probability of red ball from second urn is 0.2 Picking randomly from the urn, your friend gets a red ball. What are the odds it came from the first urn?\n",
    "\n",
    "We want $Pr(urn1 | red) = \\frac{Pr(urn1)}{Pr(red)} \\cdot Pr(red | urn1)$\n",
    "\n",
    "Picking randomly from the urns gives us $Pr(urn1) = 0.5$.\n",
    "\n",
    "From partitions: \n",
    "\n",
    "$Pr(red) = Pr(urn1) \\cdot Pr(red | urn1) + Pr(urn2) \\cdot Pr(red | urn2)$\n",
    "\n",
    "$Pr(red) = 0.5 \\cdot 0.4 + 0.5 \\cdot 0.2 = 0.3$\n",
    "\n",
    "Thus $Pr(urn1 | red) = \\frac{0.5}{0.3} \\cdot 0.4 = 0.67$."
   ]
  },
  {
   "cell_type": "markdown",
   "metadata": {},
   "source": [
    "##4.5 Partitions and the Law of Total Probability\n",
    "\n",
    "####Definition (Partition)\n",
    "\n",
    "A _partition_ of a sample space $S$ is a countable collection of sets $\\{A_1, A_2, ...\\}$ with the following properties:\n",
    "\n",
    "1. if $i \\ne j$, then $A_i$ and $A_j$ are disjoint. We often write $A_i \\cap A_j = \\emptyset$ to indicate that their intersection is empty.\n",
    "\n",
    "2. The union of all the $A_i$'s is the entire sample space: $\\bigcup_i A_i = S$.\n",
    "\n",
    "####Definition (Law of Total Probability)\n",
    "\n",
    "If $\\{B_1, B_2, ... \\}$ form a partition for the sample space $S$ (into at most countably many pieces, then for any $A \\subset S$ we have:\n",
    "\n",
    "$$Pr(A) = \\sum_n Pr(A|B) \\cdot Pr(B_n)$$\n",
    "\n",
    "We should have $0 \\lt Pr(B_n) \\lt 1$ for all $n$ as the conditional probabilities aren't defined otherwise. Proof on p. 162."
   ]
  },
  {
   "cell_type": "markdown",
   "metadata": {},
   "source": [
    "##4.6 Bayes' Theorem Revisited\n",
    "\n",
    "\n",
    "####Definition (Bayes' Theorem)\n",
    "\n",
    "Let $\\{A_i\\}_{i=1}^n$ denote a partition of the sample space. Then:\n",
    "\n",
    "$$Pr(A|B) = \\frac{Pr(B|A) \\cdot Pr(A)}{\\sum_{i=1}^n Pr(B|A_i) \\cdot Pr(A_i)}$$\n",
    "\n",
    "Frequently one takes $A$ to be one of the sets $A_i$."
   ]
  }
 ],
 "metadata": {
  "kernelspec": {
   "display_name": "Python 2",
   "language": "python",
   "name": "python2"
  },
  "language_info": {
   "codemirror_mode": {
    "name": "ipython",
    "version": 2
   },
   "file_extension": ".py",
   "mimetype": "text/x-python",
   "name": "python",
   "nbconvert_exporter": "python",
   "pygments_lexer": "ipython2",
   "version": "2.7.10"
  }
 },
 "nbformat": 4,
 "nbformat_minor": 0
}
