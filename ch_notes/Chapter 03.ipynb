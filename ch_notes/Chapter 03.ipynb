{
 "cells": [
  {
   "cell_type": "markdown",
   "metadata": {},
   "source": [
    "#Chapter 3: Counting I"
   ]
  },
  {
   "cell_type": "code",
   "execution_count": 1,
   "metadata": {
    "collapsed": true
   },
   "outputs": [],
   "source": [
    "import numpy as np\n",
    "import matplotlib.pyplot as plt\n",
    "%matplotlib inline"
   ]
  },
  {
   "cell_type": "markdown",
   "metadata": {},
   "source": [
    "##3.1 Factorials and Binomial Coefficients\n",
    "\n",
    "###3.1.1 The Factorial Function\n",
    "####Defintion\n",
    "\n",
    "- *n!* is the number of ways of arranging _n_ people when order matters.\n",
    "- If *n* is 0 then we say this is one way to do nothing.\n",
    "\n",
    "####Example (99)\n",
    "To choose 4 out of 9 people with order mattering: $9 * 8 * 7 * 6$. \n",
    "But _multiplying by one_ gives us an illuminating: $\\frac{9!*5!}{5!}$\n",
    "\n",
    "####Important (99)\n",
    "The final factor is $n - (k- 1)$ not $n-k$ when we're choosing $k$ from $n$ with order matters.\n"
   ]
  },
  {
   "cell_type": "code",
   "execution_count": 14,
   "metadata": {
    "collapsed": false
   },
   "outputs": [
    {
     "data": {
      "image/png": "[encoded data removed]",
      "text/plain": [
       "<matplotlib.figure.Figure at 0xb7ffba8>"
      ]
     },
     "metadata": {},
     "output_type": "display_data"
    }
   ],
   "source": [
    "x = np.arange(0, 10, 1)\n",
    "y = np.array([np.math.factorial(i) for i in x])\n",
    "plt.plot(x,y)\n",
    "plt.title('The Factorial Function')\n",
    "plt.show()"
   ]
  },
  {
   "cell_type": "markdown",
   "metadata": {},
   "source": [
    "###3.1.2 Binomial Coefficients\n",
    "\n",
    "####Definition\n",
    "- The number of ways to choose *k* people from *n* is $\\frac{n!}{k!(n-k)!}$\n",
    "- if $k > n$ then $\\binom{n}{k} = 0$\n",
    "- $\\binom{n}{k} = \\binom{n}{n-k}$ (Proof in A.6)\n",
    "\n",
    "\n",
    "###3.1.3 Summary\n",
    "\n",
    "- How many ways are there to order objects? Permutations -> factorial\n",
    "- How many ways are there to chose some of the objects if order does not matter? Combinations -> binomial"
   ]
  },
  {
   "cell_type": "markdown",
   "metadata": {},
   "source": [
    "##3.2 Poker\n",
    "\n",
    "###3.2.2 Nothing\n",
    "\n",
    "The probability of choosing 5 cards without any repeats is $\\binom{13}{5}4^5$. We need to choose 5 of 13 with order immaterial. For each of these five numbers, our card could be either a spade, heart, diamond, or club. \n",
    "\n",
    "This is not equal to $52 \\cdot 48 \\cdot 44 \\cdot 40 \\cdot 36$ as we are imposing order onto the sequence. Once we remove order however, the answer is correct: $\\frac{52 \\cdot 48 \\cdot 44 \\cdot 40 \\cdot 36}{5!}$\n",
    "\n",
    "###3.2.3 Pairs\n",
    "\n",
    "_Problem 3.2.2: What is the probability of having exactly one pair in a five card hand?_\n",
    "\n",
    "There are $\\binom{13}{1}$ ways to choose a value, and then $\\binom{4}{2}$ ways to choose a pair from that value. Then we must choose three other values from the 12 remaining values. There are $\\binom{12}{3}$ ways to do this. For each choice, there are four possible suits thus $\\binom{4}{1}^3$. The total number of ways of getting exactly one pair is: $\\binom{13}{1}\\binom{4}{2}\\binom{12}{3}\\binom{4}{1}^3 = 1,098,240$.\n",
    "\n",
    "####Important\n",
    "Be ever vigilant about introducing order where it shouldn't be. Usually, staying with only binomial coefficients is a good sign no order is introduced.\n",
    "\n",
    "###3.2.4 Two Pair\n",
    "How many ways are there to choose two numbers from 13? $\\binom{13}{2}$. Then we choose $\\binom{4}{2}$ for two out of the four suits. Finally, the last card must be a different number. There are $\\binom{11}{1}$ ways to choose the last number and $\\binom{4}{1}$ choices for the suit. Thus $\\binom{13}{2}\\binom{4}{2}^2\\binom{11}{1}\\binom{4}{1} = 123,552$.\n",
    "\n",
    "###3.2.6 Straights, Flushed and Straight Flushes\n",
    "\n",
    "_How many straights are there?_\n",
    "\n",
    "We need five consecutive numbers, 10 possibilities of that. Four choices of suit for each position, so $10 \\cdot 4^5 = 10,240$ straights.\n",
    "\n",
    "_How many flushes are there?_\n",
    "\n",
    "There are $\\binom{4}{1}$ ways to choose a single suit, then choose five numbers. Thus $\\binom{4}{1}\\binom{13}{5} = 5148$ flushes.\n",
    "\n",
    "_How many straight flushes are there?_\n",
    "\n",
    "Replace the $4^5$ in the straight calculation with $\\binom{4}{1} \\cdot 1^5$, as we choose one suit and have to stay with that suit, giving $4 \\cdot 10 = 40$ straight flushes.\n",
    "\n",
    "###3.2.8 Practice Poker Hand, I\n",
    "\n",
    "_Problem 3.2.3: What is the probability that, in a five card hand, we have at least two cards with the same value?_\n",
    "\n",
    "Enumerate all possibilities: exactly one pair, three of a kind but not a full house, four of a kind, exactly two pairs, or a full house. This events are mutually disjoint and cover all possibilities (p. 104).\n",
    "\n",
    "###3.2.9 Practice Poker Hand, II\n",
    "\n",
    "_Problem 3.2.5 Start with Ace of Spades, 8 of diamonds, what is the porbability that the next three cards will give a hand having exactly one pair, where that pair is neither tow Aces nor two 8s?_\n",
    "\n",
    "If you start with order, then you must end with order, and vice-versa."
   ]
  },
  {
   "cell_type": "markdown",
   "metadata": {},
   "source": [
    "##3.3 Solitaire\n",
    "\n",
    "\n"
   ]
  },
  {
   "cell_type": "code",
   "execution_count": 8,
   "metadata": {
    "collapsed": false
   },
   "outputs": [
    {
     "name": "stdout",
     "output_type": "stream",
     "text": [
      "2.9176360623e-07\n"
     ]
    }
   ],
   "source": [
    "fact = np.math.factorial\n",
    "print (fact(24) / fact(9)) * fact(37) / float(fact(52))"
   ]
  },
  {
   "cell_type": "markdown",
   "metadata": {},
   "source": [
    "###3.3.2 Aces Up\n",
    "_How often are the last four cards in different suits?_\n",
    "\n",
    "Three ways to do it (p. 121)\n",
    "\n",
    "####Important\n",
    "There are many correct ways to find the correct answer, but its important to remember not to mix and match; if the numerator is the number of ordered sets of  four cards satisfying our condition, then the denominator should be the number of ordered ways of having four cards.\n",
    "\n",
    "\n",
    "##3.4 Bridge\n",
    "\n",
    "_The Method of Simpler Example_ It is often a good idea ot try a smaller case first, build up some intuition, and then return to the original, larger problem."
   ]
  }
 ],
 "metadata": {
  "kernelspec": {
   "display_name": "Python 2",
   "language": "python",
   "name": "python2"
  },
  "language_info": {
   "codemirror_mode": {
    "name": "ipython",
    "version": 2
   },
   "file_extension": ".py",
   "mimetype": "text/x-python",
   "name": "python",
   "nbconvert_exporter": "python",
   "pygments_lexer": "ipython2",
   "version": "2.7.10"
  }
 },
 "nbformat": 4,
 "nbformat_minor": 0
}
