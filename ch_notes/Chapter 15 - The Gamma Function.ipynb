{
 "cells": [
  {
   "cell_type": "markdown",
   "metadata": {},
   "source": [
    "#Chapter 15: The Gamma Function and Related Distributions\n",
    "\n",
    "####Definition\n",
    "\n",
    "For $s>0$, the __Gamma Function__ $\\Gamma(s)$ is:\n",
    "\n",
    "$$\\Gamma(s) = \\int_0^{\\infty} e^{-x}x^{s-1} dx = \\int_0^{\\infty} e^{-x}x^{s} \\frac{x}{dx}$$\n",
    "\n",
    "##15.1 Existence of $\\Gamma(s)$\n",
    "\n",
    "Frequently, there are three trouble points: $x = 0$ and $x = \\pm \\infty$.\n",
    "\n",
    "Rule of thumb: if as $x \\to \\infty$ a function is decaying faster than $1/x^{1+\\epsilon}$ for any epsilon, then the integral at infinity will be finite. For small $x$, if as $x \\to 0$ the function is blowing up slower than $x^{-1+\\epsilon}$ then the integral at 0 will be okay near zero.\n",
    "\n",
    "We _borrow some of the decay_ from $e^x$ to ensure that $x^{s-1}$ decays sufficiently at infinity."
   ]
  },
  {
   "cell_type": "markdown",
   "metadata": {},
   "source": [
    "##15.2 The Function Equation of $\\Gamma(s)$\n",
    "\n",
    "__Analytic Continuation__: taking a function $f$ that makes sense in one region and extend its definition to a function $g$ defined on a larger region in such a way that our new function $g$ agrees with $f$ where they are bot defined, but $g$ is defined for more points.\n",
    "\n",
    "####Function Equation of $\\Gamma(s)$\n",
    "\n",
    "The Gamma function satisfies:\n",
    "\n",
    "$$\\Gamma(s+1) = s\\Gamma(s)$$\n",
    "\n",
    "This allows us to extend the Gamma function to all $s$. It is well defined and finite for all $s$ other than the negative integers and zero."
   ]
  },
  {
   "cell_type": "markdown",
   "metadata": {},
   "source": [
    "##15.3 The Factorial Function and $\\Gamma(s)$\n",
    "\n",
    "If $n$ is a non-negative integer, then:\n",
    "\n",
    "$$\\Gamma(n+1) = n!$$\n",
    "\n",
    "So the Gamma Function is an extension of the factorial function."
   ]
  },
  {
   "cell_type": "markdown",
   "metadata": {},
   "source": [
    "##15.4 Special Values of $\\Gamma(s)$\n",
    "\n",
    "####The cosecant identity:\n",
    "\n",
    "If $s$ is not an integer, then:\n",
    "\n",
    "$$\\Gamma(s)\\Gamma(1-s) = \\pi csc(\\pi s) = \\frac{\\pi}{sin(\\pi s)}$$\n",
    "\n",
    "We also have that $\\Gamma(1/2) = \\sqrt{\\pi}$"
   ]
  },
  {
   "cell_type": "markdown",
   "metadata": {},
   "source": [
    "##15.5 The Beta Function and the Gamma Function\n",
    "\n",
    "####Definition (Beta Function)\n",
    "\n",
    "The Beta function is defined by:\n",
    "\n",
    "$$B(a,b) = \\int_0^1 t^{a-1} (1-t)^{b-1} dt$$\n",
    "\n",
    "where $a,b > 0$.\n",
    "\n",
    "####Fundamental Relation of the Beta Function\n",
    "\n",
    "For $a,b > 0$ we have:\n",
    "\n",
    "$$B(a,b) := \\int_0^1 t^{a-1} (1-t)^{b-1} dt = \\frac{\\Gamma(a)\\Gamma(b)}{\\Gamma(a +b)}$$\n",
    "\n",
    "####Definition (Beta Distribution)\n",
    "\n",
    "Let $a,b > 0$. If $X$ is a random variable with the __Beta distribution__ with paramaters $a$ and $b$ then its density is:\n",
    "\n",
    "$$f_{a,b} = \\begin{cases}\n",
    "    \\frac{\\Gamma(a+b)}{\\Gamma(a)\\Gamma(b)}t^{a-1}(1-t)^{b-1}dt & \\text{if } 0 \\le t \\le 1 \\\\\n",
    "    0 & \\text{otherwise.}\n",
    "\\end{cases}$$\n",
    "\n",
    "We write $X \\sim B(a,b)$."
   ]
  },
  {
   "cell_type": "markdown",
   "metadata": {},
   "source": [
    "##15.6 The Normal Distribution and the Gamma Function\n",
    "\n",
    "We can use the Gamma function to show that the $2m^{th}$ moment of the standard normal is:\n",
    "\n",
    "$$\\int_{-\\infty}^{\\infty} x^{2m} \\cdot \\frac{1}{\\sqrt{2 \\pi}} e^{-x^2/2} dx = (2m-1)!!$$"
   ]
  },
  {
   "cell_type": "markdown",
   "metadata": {},
   "source": [
    "##15.7 Families of Random Variables\n",
    "\n",
    "####TheGamma and Weibull Distributions\n",
    "\n",
    "A random variable $X$ has the __Gamma distribution__ with positive parameters $k$ and $\\sigma$ if its density is:\n",
    "\n",
    "$$f_{k,\\sigma}(x) = \\begin{cases}\n",
    "    \\frac{1}{\\Gamma(k) \\sigma^k} x^{k-1} e^{-x/\\sigma} & \\text{if } x \\ge 0 \\\\\n",
    "    0 & \\text{otherwise.}\n",
    "\\end{cases}$$\n",
    "\n",
    "We call $k$ the __shape__ parameter and $\\sigma$ the __scale__ parameter, write $X \\sim \\Gamma(k,\\sigma)$.\n",
    "\n",
    "A random variable $X$ has the __Weibull__ distribution with positive parameter $k$ and $\\sigma$ if its density is:\n",
    "\n",
    "$$f_{k,\\sigma}(x) = \\begin{cases}\n",
    "    (k/\\sigma)(x/\\sigma)^{k-1}e^{-(x/\\sigma)^k} & \\text{if } x \\ge 0 \\\\\n",
    "    0 & \\text{otherwise.}\n",
    "\\end{cases}$$\n",
    "\n",
    "We call $k$ the __shape__ parameter and $\\sigma$ the __scale__ parameter, write $X \\sim W(k,\\sigma)$.\n",
    "\n",
    "The notion of _families_ of distributions that are different specializations of parameters. We can vary the parameters and get different, but related distributions."
   ]
  }
 ],
 "metadata": {
  "kernelspec": {
   "display_name": "Python 2",
   "language": "python",
   "name": "python2"
  },
  "language_info": {
   "codemirror_mode": {
    "name": "ipython",
    "version": 2
   },
   "file_extension": ".py",
   "mimetype": "text/x-python",
   "name": "python",
   "nbconvert_exporter": "python",
   "pygments_lexer": "ipython2",
   "version": "2.7.10"
  }
 },
 "nbformat": 4,
 "nbformat_minor": 0
}
