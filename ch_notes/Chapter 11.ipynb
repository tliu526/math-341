{
 "cells": [
  {
   "cell_type": "markdown",
   "metadata": {},
   "source": [
    "#Chapter 11 Tools: Differentiating Identities\n",
    "\n",
    "##11.1 Geometric Series Example\n",
    "\n",
    "Method of Differentiating Identities needs a free parameter on both sides of an idetity and we then differentiate.\n",
    "\n",
    "Note that we can interchange the order of the derivative and the sum only if we have a finite sum; infinite sums need more justification."
   ]
  },
  {
   "cell_type": "markdown",
   "metadata": {},
   "source": [
    "##11.2 Method of Differentiating Identities\n",
    "\n",
    "###Definition\n",
    "\n",
    "Let $\\alpha, \\beta, \\gamma,..., \\omega$ be some parameters. Assume:\n",
    "\n",
    "$$\\sum_{n=n_{min}}^{n_max} f(n;\\alpha,\\beta,...,\\omega) = g(\\alpha, \\beta, ..., \\omega)$$\n",
    "\n",
    "Where $f$ and $g$ are differentiable function with respect to $\\alpha$. Then:\n",
    "\n",
    "$$\\sum_{n=n_{min}}^{n_max} \\frac{\\partial f(n;\\alpha,\\beta,...,\\omega)}{\\partial \\alpha} = \\frac{\\partial g(\\alpha, \\beta, ..., \\omega)}{\\partial \\alpha}$$\n",
    "\n",
    "provided that $f$ has sufficient decay to justify the interchange of summation and differentiation.\n",
    "\n",
    "\n"
   ]
  },
  {
   "cell_type": "markdown",
   "metadata": {},
   "source": [
    "##11.3 Applications to Binomial Random Variables\n",
    "\n",
    "We want to find the mean of the binomial random variable:\n",
    "\n",
    "$$\\mathbb{E}[X] = \\sum_{k=0}^n k \\cdot \\binom{n}{k} p^k (1-p)^{n-k}$$\n",
    "\n",
    "We can easily determine the mean by applying $p\\frac{\\partial}{\\partial p}$:\n",
    "\n",
    "$$p\\frac{\\partial}{\\partial p}(\\sum_{k=0}^n \\binom{n}{k } p^k q^{n-k}) = p\\frac{\\partial}{\\partial p} (p + q)^n$$\n",
    "\n",
    "$$p(\\sum_{k=0}^n k \\binom{n}{k} p^{k-1} q^{n-k}) = np(p + q)^{n-1}$$\n",
    "\n",
    "$$\\sum_{k=0}^n k\\binom{n}{k} p^{k} q^{n-k} = np(p + q)^{n-1}$$\n",
    "\n",
    "Applying $q = 1 - p$, we get:\n",
    "\n",
    "$$\\mathbb{E}[X] = \\sum_{k=0}^n k \\cdot \\binom{n}{k} p^k (1-p)^{n-k} = np$$\n",
    "\n",
    "We can derive the variance by applying $p^2\\frac{\\partial^2}{\\partial p^2}$, finding that:\n",
    "\n",
    "$$Var(X) = \\sum_{k=0}^n(k-np)^2 \\cdot \\binom{n}{k} p^k (1-p)^{n-k} = np(1-p)$$"
   ]
  },
  {
   "cell_type": "markdown",
   "metadata": {},
   "source": [
    "##11.4 Applications to Normal Random Variables\n",
    "\n",
    "We can find the general formula for all the moments of a standard normal variable via differentiating identities. Note that it's not immediately apparent which identity to use."
   ]
  },
  {
   "cell_type": "markdown",
   "metadata": {},
   "source": [
    "##11.5 Applications to Exponential Random Variables\n",
    "\n",
    "Again, can use differentiating identities to compute a distribution's mean, variance, and more generally any moment."
   ]
  }
 ],
 "metadata": {
  "kernelspec": {
   "display_name": "Python 2",
   "language": "python",
   "name": "python2"
  },
  "language_info": {
   "codemirror_mode": {
    "name": "ipython",
    "version": 2
   },
   "file_extension": ".py",
   "mimetype": "text/x-python",
   "name": "python",
   "nbconvert_exporter": "python",
   "pygments_lexer": "ipython2",
   "version": "2.7.10"
  }
 },
 "nbformat": 4,
 "nbformat_minor": 0
}
