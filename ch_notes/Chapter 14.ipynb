{
 "cells": [
  {
   "cell_type": "markdown",
   "metadata": {
    "collapsed": true
   },
   "source": [
    "#Chapter 14: The Normal Distribution\n",
    "\n",
    "###Definition\n",
    "A random variable $X$ is normally distributed with mean $\\mu$ and variance $\\sigma^2$ if its density is:\n",
    "\n",
    "$$f_X(x) = \\frac{1}{\\sqrt{2\\pi\\sigma^2}}e^{-(x-\\mu) / 2\\sigma^2}$$\n",
    "\n",
    "We write $X \\sim N(\\mu, \\sigma^2)$. We also say $X$ is a __Gaussian random variable__. If $X$ has the __standard normal distribution__, then $X \\sim N(0,1)$. If $X$ is normally distributed we sometimes say it follows the __bell curve__.\n",
    "\n",
    "##14.1 Determining the Normalization Constant\n",
    "\n",
    "###Theory of Normalization Constants\n",
    "Let $g$ be a non-negative, real-valued function with:\n",
    "\n",
    "$$c = \\int_{-\\infty}^{\\infty} g(x) dx > 0$$\n",
    "\n",
    "Then if we set $f(x) = g(x)/c$, $f$ is a probability density.\n",
    "\n",
    "Square the integral, then switch to polar to solve for the normalization constant."
   ]
  },
  {
   "cell_type": "markdown",
   "metadata": {},
   "source": [
    "##14.2 Mean and Variance\n",
    "\n",
    "Ensure to check whether the bounds of integration have been expressed properly after a change such as u-substitution."
   ]
  },
  {
   "cell_type": "markdown",
   "metadata": {},
   "source": [
    "##14.3 Sums of Normal Random Variables\n",
    "\n",
    "__Stable Distributions__: distributions where the shape of $X + Y$ is the same shape as $X$ and $Y$.\n",
    "\n",
    "###Definition (Sums of Random Variables)\n",
    "\n",
    "If $X \\sim N(\\mu_X, \\sigma_X^2)$, and $Y \\sim N(\\mu_Y, \\sigma_Y^2)$ are two independent normal random variables, then $X + Y \\sim N(\\mu_X + \\mu_Y, \\sigma_X^2 + \\sigma_Y^2)$. More generally, if we have independent normally distributed random variables $X_i \\sim N(\\mu_i, \\sigma_i^2)$, then:\n",
    "\n",
    "$$X_1 + ... + X_n \\sim N(\\mu_1 + ... + \\mu_n, \\sigma_1^2 + ... + \\sigma_n^2)$$\n",
    "\n",
    "Deriving this result:\n",
    "\n",
    "Using the theory of convolutions, we solve:\n",
    "\n",
    "$$f_{X+Y}(z) = \\int_{-\\infty}^{\\infty} f_X(t) f_Y(z-t)dt$$\n",
    "\n",
    "Substituting in $f_X$ and $f_Y$ and simplifying gives us:\n",
    "\n",
    "See book page 383/pdf page 394."
   ]
  },
  {
   "cell_type": "markdown",
   "metadata": {},
   "source": [
    "##14.4 Generating Random Numbers from Normal Distributions\n",
    "\n",
    "__Exploiting Symmetries__: Section A.4.\n",
    "\n",
    "###Definitions\n",
    "\n",
    "We let $\\phi(x)$ denote the density of the standard normal. Then its CDF is:\n",
    "\n",
    "$$\\Phi(x) = \\int_{-\\infty}^{x} \\phi(t) dy = \\int_{-\\infty}^{x} \\frac{1}{\\sqrt{2\\pi}} e^{-t^2/2} dt$$\n",
    "\n",
    "Let the __error function__ be: \n",
    "\n",
    "$$\\text{Erf}(x) = \\frac{2}{\\sqrt{\\pi}} \\int_0^x e^{-t^2} dt$$.\n",
    "\n",
    "If $\\Phi$ is the CDF of the standard normal and Erf(x) is the error function, then:\n",
    "\n",
    "$$\\Phi(x) - \\Phi(-x) = \\text{Erf}(\\frac{x}{\\sqrt{2}}) = \\frac{2}{\\sqrt{2\\pi}}\\sum_{n=0}^{\\infty} \\frac{(-1)^n x^{n+1}}{n!(2n+1)}$$"
   ]
  },
  {
   "cell_type": "markdown",
   "metadata": {},
   "source": [
    "##14.5 Examples and the Central Limit Theorem\n",
    "\n",
    "To find the probability of some arbitrary normal distribution, first standardize to the standard normal.\n",
    "\n",
    "We achieve this by sending $X \\to \\frac{X = \\mu}{\\sigma}$."
   ]
  }
 ],
 "metadata": {
  "kernelspec": {
   "display_name": "Python 2",
   "language": "python",
   "name": "python2"
  },
  "language_info": {
   "codemirror_mode": {
    "name": "ipython",
    "version": 2
   },
   "file_extension": ".py",
   "mimetype": "text/x-python",
   "name": "python",
   "nbconvert_exporter": "python",
   "pygments_lexer": "ipython2",
   "version": "2.7.10"
  }
 },
 "nbformat": 4,
 "nbformat_minor": 0
}
