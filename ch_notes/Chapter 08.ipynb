{
 "cells": [
  {
   "cell_type": "markdown",
   "metadata": {},
   "source": [
    "#Chapter 8: Introduction to Continuous Random Variables\n",
    "\n",
    "##8.1 Fundamental Theorem of Calculus\n",
    "\n",
    "####Definitions\n",
    "\n",
    "- _Piecewise Continuous Function:_ A function which is continuous except at finitely many points.\n",
    "\n",
    "- _Definite Integral:_ The area under the curve from $a$ to $b$ is $\\int_a^b f(x)dx$\n",
    "\n",
    "####Definition (The Fundamental Theorem of Calculus)\n",
    "\n",
    "Let $f$ be a piecewise contiunuous function, and let $F$ be any anti-derivative of $f$. Then:\n",
    "\n",
    "$$\\int_a^b f(x) dx = F(b) - F(a)$$\n",
    "\n",
    "In words: the signed area under the curve $y=f(x)$ from $x=a$ to $x=b$ is the anti-derivative of $f$ at $b$ minus the anti-derivative of $f$ at $a$."
   ]
  },
  {
   "cell_type": "markdown",
   "metadata": {},
   "source": [
    "##8.2 PDFs and CDFs: Definitions\n",
    "\n",
    "####Definition (PDF of continuous random variable)\n",
    "\n",
    "We say $X$ is a continuous random variable if there is a real-valued function $f_X$, called the probability density function of $X$ which satisfies:\n",
    "\n",
    "- $f_X$ is piecewise continuous\n",
    "- $f_X \\ge 0$\n",
    "- $\\int_{-\\infty}^{\\infty} f_X(t)dt = 1$\n",
    "\n",
    "In abuse of notation, we call $f_X$ the density function.\n",
    "\n",
    "####Definition (CDF of continuous random variable)\n",
    "\n",
    "The cumulative distribution function $F_X(x)$ of $X$ is the probability of $X$ being at most $x$:\n",
    "\n",
    "$$F_X(x) = Prob(X \\le x) = \\int_{-\\infty}^x f_X(t) dt$$"
   ]
  },
  {
   "cell_type": "markdown",
   "metadata": {},
   "source": [
    "##8.3 Examples\n",
    "\n",
    "####Definition (Normalizing Potential Densities)\n",
    "\n",
    "If $f_X$ is a piecewise continuous function that is never negative and has finite integral, then:\n",
    "\n",
    "$$g_X(s) = \\frac{f_X(x)}{\\int_{-\\infty}^\\infty f_X(t)dt}$$\n",
    "\n",
    "is a probability desnity. In other words, there is a $c$ such that:\n",
    "\n",
    "$$g_X(x) = c \\cdot f_X(x)$$\n",
    "\n",
    "is a probability density and:\n",
    "\n",
    "$$c = = \\frac{1}{\\int_{-\\infty}^\\infty f_X(t)dt}$$\n",
    "\n",
    "###Properties of Continuous Random Variables\n",
    "\n",
    "The probability of a singleton event is zero for continuous random variables.\n",
    "\n",
    "If $X$ is a continuous random variable with probability density function $f_X$, then the following four probabilities are all equal:\n",
    "\n",
    "- The probability that $X$ is in $[a, b]$\n",
    "- The probability that $X$ is in $(a, b]$\n",
    "- The probability that $X$ is in $[a, b)$\n",
    "- The probability that $X$ is in $(a, b)$\n",
    "\n",
    "This is because the probability of a singleton event is zero.\n",
    "\n",
    "Let $X$ be a continuous ranodm variable with cumulative distribution function $F_X$. Then:\n",
    "\n",
    "- $\\lim_{x \\to -\\infty}F_X(x) = 0$\n",
    "- $\\lim_{x \\to \\infty}F_X(x) = 1$\n",
    "\n",
    "Furthermore, $F_X$ is a non-decreasing function: if $y \\gt x$ then $F_X(y) \\ge F_X(x)$.\n",
    "\n",
    "If $X$ is a continuous random variable with cumulative distribution function $F_X$, then it has probability density function $f_X$ such that $F_X'(x) = f_X(x)$ for all but finitely many $x$.\n",
    "\n",
    "We are often restricted to countable events."
   ]
  }
 ],
 "metadata": {
  "kernelspec": {
   "display_name": "Python 2",
   "language": "python",
   "name": "python2"
  },
  "language_info": {
   "codemirror_mode": {
    "name": "ipython",
    "version": 2
   },
   "file_extension": ".py",
   "mimetype": "text/x-python",
   "name": "python",
   "nbconvert_exporter": "python",
   "pygments_lexer": "ipython2",
   "version": "2.7.10"
  }
 },
 "nbformat": 4,
 "nbformat_minor": 0
}
