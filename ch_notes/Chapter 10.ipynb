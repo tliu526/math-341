{
 "cells": [
  {
   "cell_type": "markdown",
   "metadata": {},
   "source": [
    "#Chapter 10 Tools: Convolutions and Changing Variables\n",
    "\n",
    "One great lesson: always try to reduce one complicated problem into many simpler problems.\n",
    "\n",
    "##10.1 Convolutions: Definition and Properties\n",
    "\n",
    "###Definition 10.1.1\n",
    "\n",
    "The __convolution__ of continuous random variables $X$ and $Y$ on $\\mathbb{R}$ with densities $f_X$ and $f_Y$ is denoted $f_X * f_Y$, and is given by:\n",
    "\n",
    "$$(f_X * f_Y)(z) = \\int_{-\\infty}^{\\infty} f_X(t)f_Y(z-t)dt$$\n",
    "\n",
    "If $X$ and $Y$ are discrete, we have:\n",
    "\n",
    "$$(f_X * f_Y)(z) = \\sum_{n} f_X(x_n)f_Y(z-x_n)$$\n",
    "\n",
    "Note of course that $f_Y(z - x_n)$ is zero unless $z-x_n$ is one of the values where $Y$ has positive probability.\n",
    "\n",
    "###Theorem 10.1.2\n",
    "\n",
    "Let $X$ and $Y$ be continuous or discrete _independent_ random variables on $\\mathbb{R}$ with densities $f_X$ and $f_Y$. If $Z = X + Y$ then:\n",
    "\n",
    "$$f_Z(z) = (f_X * f_Y)(z)$$\n",
    "\n",
    "Further, convolution is commutative: $f_X * f_Y = f_Y * f_X$.\n",
    "\n",
    "Proof on book page 291."
   ]
  },
  {
   "cell_type": "markdown",
   "metadata": {},
   "source": [
    "##10.2 Convolutions: Die Example\n",
    "\n",
    "Look at $z$ as given, then try to figure out what possible $k$ we might take.\n",
    "\n",
    "##10.3 Convolutions of Several Variables\n",
    "\n",
    "###Theorem 10.3.1 (Sums of independent random variables)\n",
    "Let $X_1, X_2,..., X_n$ be independent random variables with densities $f_{X_1}, f_{X_2}, ..., f_{X_n}$. Then:\n",
    "\n",
    "$$f_{X_1+...+X_n}(z) = (f_{X_1} * f_{X_2} * ... * f_{X_n})(z)$$\n",
    "\n",
    "where:\n",
    "\n",
    "$$(f_1 * f_2 * ... * f_n)(z) = (f_1 * (f_2 * ... * (f_{n-2} * (f_{n-1} * f_n)) ... ))(z)$$\n",
    "\n",
    "Convolution is commutative as well as associative.\n",
    "\n",
    "Proof on book page 295, utilizes __proof by grouping__ (Appendix A.3)."
   ]
  },
  {
   "cell_type": "markdown",
   "metadata": {},
   "source": [
    "##10.4 Change of Variable Formula: Statement\n",
    "\n",
    "###Theorem 10.4.1 (Change of Variables Formula)\n",
    "\n",
    "Let $X$ be a continuous random variable with density $f_X$, and assume that there is an interval $I \\subset \\mathbb{R}$ such that $f_X(x) = 0$ whenever $x \\notin I$ (in other words, the only non-zero values of $X$ occur in $I$, which might be the entire real line). Let $g : I \\to \\mathbb{R}$ be a differentiable function with inverse $h$, and assume the derivative of $g$ is either always positive or always negative in $I$, except at finitely may points where it may be zero. If we let $Y = g(X)$, then:\n",
    "\n",
    "$$f_Y(y) = f_X(h(y)) \\cdot |h'(y)|$$\n",
    "\n",
    "Parsing the above theorem, we have:\n",
    "- We have a nice interval $I$ where $X$ is defined. $I$ is frequently a subset of $\\mathbb{R}$; this allows us to restrict where $g$ is nicely defined.\n",
    "- We want $g$ to be differentiable.\n",
    "- We want to the derivative of $g$ to be either always positive or always negative. This implies that $g$ is either strictly increasing or strictly decreasing. As a consequence, we find that each value of $X$ is associated with a uniqe value of $Y$ and vice-versa. Note that the derivative of $g$ can vanish so long as it has the same sign immediately before and after.\n",
    "- if $h$ is inverse to $g$ then $h(g(x)) = x$ and $g(h(y)) = y$. Differentiating with respect to $y$ gives:\n",
    "\n",
    "$$h'(y) = \\frac{1}{g'(h(y))}$$\n",
    "\n",
    "So if we know the derivative of $g$ then we know the derivative of $h$.\n",
    "\n",
    "An example of use of Change of Variables is on book page 299."
   ]
  },
  {
   "cell_type": "markdown",
   "metadata": {},
   "source": [
    "##10.5 Change of Variables Formula: Proof\n",
    "\n",
    "We'll prove this using the __Method of Cumulative Distribution Function__.\n",
    "\n",
    "###The Method of the Cumulative Distribution Function\n",
    "\n",
    "Let $X$ be a random variables with density $f_X$ whose density is non-zero on some interval $I$, and let $Y = g(X)$ where $g : I \\to \\mathbb{R}$ is a differentiable function with inverse $h$. Assume the derivative of $g$ is either always positive or always negative in $I$, except at finitely many points where it may vanish. To find the density $f_Y$:\n",
    "\n",
    "1. Identify the interval $I$ where the random variable $X$ is defined.\n",
    "2. Prove the function $g$ has a derivative that is always positive or always negative (except at finitely many points).\n",
    "3. Determine the inverse function $h(y)$, where $g(h(y))=y$ and $h(g(x)) = x$.\n",
    "4. Determine $h'(y)$, either by directly differentiating $h$ or using the relation $h'(y) = 1/g'(h(y))$.\n",
    "5. The density of $Y$ is $f_Y(y) = f_X(h(y)) \\cdot |h'(y)|$.\n",
    "\n",
    "###The Method of CDF (alternate formulation)\n",
    "\n",
    "Let $X$ be a random variable with density $f_X$ and $Y = g(X)$ for a differentiable function $g$. For convenience assume $g'(x) \\ge 0$. To find $f_Y$:\n",
    "\n",
    "1. Express the cdf of $Y$ in terms of $X$ and $g$: $F_Y(y) = Prob(Y \\le y) = Prob(g(X) \\le y)$\n",
    "2. REplace the inequalities involving $g(X)$ with inequalities involving $X$ by inverting. For example, we might have $g(X) \\ge 0$, which is implicit in the lines above, and we would get: \n",
    "$$F_Y(y) = Prob(g^{-1}(0) \\le X \\le g^{-1}(y)) = F_X(g^{-1}(y)) - F_X(g^{-1}(0))$$\n",
    "3. Take the derivative, using the chain rule: \n",
    "$$f_Y(y) = f_X(g^{-1}(y))\\frac{d}{dy}g^{-1}(y)$$"
   ]
  },
  {
   "cell_type": "markdown",
   "metadata": {},
   "source": [
    "##10.6 Appendix: Products and Densities of Random Variables\n",
    "\n",
    "###10.6.1 Density of a Product\n",
    "\n",
    "Let $X$ and $Y$ be independent, non-negative random variables with densities $f_X$ and $f_Y$, cumulative distribution functions $F_X$ and $F_Y$ and let $Z = XY$. Then:\n",
    "\n",
    "$$f_Z(z) = \\int_{t=0}^{\\infty} f_X(t)f_Y(z/t) \\frac{dt}{t}$$\n",
    "\n",
    "###10.6.2 Density of a Quotient\n",
    "\n",
    "Let $X$ and $Y$ be independent, non-negative random variables with densities $f_X$ and $f_Y$, cumulative distribution functions $F_X$ and $F_Y$ and let $Z = X/Y$. Then:\n",
    "\n",
    "$$f_Z(z) = z^{-2}\\int_{t=0}^{\\infty} f_X(t)f_Y(t/z) \\frac{dt}{t}$$\n"
   ]
  }
 ],
 "metadata": {
  "kernelspec": {
   "display_name": "Python 2",
   "language": "python",
   "name": "python2"
  },
  "language_info": {
   "codemirror_mode": {
    "name": "ipython",
    "version": 2
   },
   "file_extension": ".py",
   "mimetype": "text/x-python",
   "name": "python",
   "nbconvert_exporter": "python",
   "pygments_lexer": "ipython2",
   "version": "2.7.10"
  }
 },
 "nbformat": 4,
 "nbformat_minor": 0
}
