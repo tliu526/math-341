{
 "cells": [
  {
   "cell_type": "markdown",
   "metadata": {},
   "source": [
    "#Chapter 7: Introduction to Discrete Random Variables\n",
    "\n",
    "##7.1 Discrete Random Variables: Definition\n",
    "\n",
    "\n",
    "###Defintion (Discrete Random Variables)\n",
    "\n",
    "A discrete random variable $X$ is a real-valued function from a discrete outcome space $\\Omega$ (this means that $\\Omega$ is finite or at most countable). Specifically, to each element $\\omega \\in \\Omega$ we assign the real number $X(\\omega)$."
   ]
  },
  {
   "cell_type": "markdown",
   "metadata": {},
   "source": [
    "##7.2 Discrete Random Variables: PDFs\n",
    "\n",
    "####Definition (Probability Density function for discrete random variables)\n",
    "\n",
    "Let $X$ be a random variable ona discrete outcome space $\\Omega$. The _probability density function_ of $X$, often denoted $f_X$, is the probability that $X$ takes on a certain value:\n",
    "\n",
    "$$f_X(x) = Prob(\\omega \\in \\Omega : X(\\omega) = x)$$\n",
    "\n",
    "Note that some books use the phrase probability mass function instead of porbability density function. A PDF always has the following properties:\n",
    "\n",
    "- $PDF \\ge 0$\n",
    "- $\\sum PDF = 1$"
   ]
  },
  {
   "cell_type": "markdown",
   "metadata": {},
   "source": [
    "##7.3 Discrete Random Variables: CDFs\n",
    "\n",
    "####Definition (Cumulative distribution function for discrete random variables)\n",
    "\n",
    "Let $X$ be a random variable on a discrete outcome space $\\Omega$. Recall that the PDF of $X$, often denoted $f_X$, is the probability that $X$ takes on a certain value. The _cumulative distribution function_, often denoted $F_X$ is the probability that $X$ is at most a certain value. We write these as:\n",
    "\n",
    "$$f_X(x) = Prob(\\omega \\in \\Omega : X(\\omega) = x)$$\n",
    "$$F_X(x) = Prob(\\omega \\in \\Omega : X(\\omega) \\le x)$$\n",
    "\n",
    "####Limiting behavior of cumulative distribution functions\n",
    "\n",
    "Let $F_X$ be the cumulative distribution function of a discrete random $X$. Then:\n",
    "\n",
    "$$ \\lim_{x \\to -\\infty} F_X(x) = 0, \\lim_{x \\to \\infty} F_X(x) = 1$$\n",
    "\n",
    "And if $y \\gt x$ then $F_X(y) \\ge F_X(x)$.\n",
    "\n",
    "####Note\n",
    "\n",
    "IF you are trying to find the porbability of an event occurring to be less than or equal to $x$, it might be helpful to use:\n",
    "\n",
    "$$Pr(X \\le x) = 1 - Pr(X \\gt x)$$\n"
   ]
  }
 ],
 "metadata": {
  "kernelspec": {
   "display_name": "Python 2",
   "language": "python",
   "name": "python2"
  },
  "language_info": {
   "codemirror_mode": {
    "name": "ipython",
    "version": 2
   },
   "file_extension": ".py",
   "mimetype": "text/x-python",
   "name": "python",
   "nbconvert_exporter": "python",
   "pygments_lexer": "ipython2",
   "version": "2.7.10"
  }
 },
 "nbformat": 4,
 "nbformat_minor": 0
}
