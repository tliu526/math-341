{
 "cells": [
  {
   "cell_type": "markdown",
   "metadata": {},
   "source": [
    "#Buffon's Needle\n",
    "\n",
    "##Theorem\n",
    "If a short needle of length $l$ is dropped on paper that is ruled with equally spaced lines of distance $d \\ge l$, then the probability that the needle comes to lie in a position where it crosses one of the lines is exactly:\n",
    "\n",
    "$$p = \\frac{2}{\\pi}\\frac{l}{d}$$\n",
    "\n",
    "We can approximate the value of $\\pi$ with this theorem."
   ]
  },
  {
   "cell_type": "markdown",
   "metadata": {},
   "source": [
    "##Book Proof\n",
    "\n",
    "Note that the expected number of _total_ crossings is:\n",
    "\n",
    "$$E = p_1 + 2p_2 + 3p_3 + ...$$\n",
    "\n",
    "where $p_i$ is the probability that the needle will cross $i$ lines.\n",
    "\n",
    "If the needle is short, then $$E = p_1$$. We can then apply linearity of expectation so that:\n",
    "\n",
    "$$E(x + y) = E(x) + E(y)$$ where $x$ and $y$ are the lengths of the \"front\" and the \"back\" of the needles.\n",
    "\n",
    "With linearity of expectation, we get that $E(x) = cx$ for all $x \\ge 0$ where $c = E(1)$ is some constant. If we drop a \"polygonal\" needle, it also has expected crossings of $E = cl$.\n",
    "\n",
    "If we drop a circular needle with diameter $d$, it will have length $d \\pi$. This will always produce two intersection since the distance between the lines is $d$.\n",
    "\n",
    "Approximating the circle $C$ with its repsective inscribed and circumscribed polygons, we get:\n",
    "\n",
    "$$E(P_n) \\le E(C) \\le E(P^n)$$\n",
    "\n",
    "where $P_n$ and $P^n$ are the inscribed and circumscribed n-polygons, respectively. This gives:\n",
    "\n",
    "$$c l(P_n) \\le 2 \\le c (P^n)$$\n",
    "\n",
    "As $n \\to \\infty$, then the length of the two polygons will converge to the length of the circle, giving us:\n",
    "\n",
    "$$cd\\pi \\le 2 \\ cd \\pi$$\n",
    "\n",
    "showing that $c = \\frac{2}{\\pi d}$.\n"
   ]
  }
 ],
 "metadata": {
  "kernelspec": {
   "display_name": "Python 2",
   "language": "python",
   "name": "python2"
  },
  "language_info": {
   "codemirror_mode": {
    "name": "ipython",
    "version": 2
   },
   "file_extension": ".py",
   "mimetype": "text/x-python",
   "name": "python",
   "nbconvert_exporter": "python",
   "pygments_lexer": "ipython2",
   "version": "2.7.10"
  }
 },
 "nbformat": 4,
 "nbformat_minor": 0
}
